{
 "cells": [
  {
   "cell_type": "markdown",
   "metadata": {},
   "source": [
    "### Run the code below if pyspark operations throw random errors"
   ]
  },
  {
   "cell_type": "code",
   "execution_count": 1,
   "metadata": {},
   "outputs": [],
   "source": [
    "import shutil\n",
    "shutil.rmtree(\"C:/Users/m/AppData/Local/Temp\", ignore_errors=True) "
   ]
  },
  {
   "cell_type": "markdown",
   "metadata": {},
   "source": [
    "### Importing libraries, starting spark session and taking a look at the data"
   ]
  },
  {
   "cell_type": "code",
   "execution_count": 2,
   "metadata": {},
   "outputs": [],
   "source": [
    "from pyspark.sql import SparkSession\n",
    "from pyspark.sql.functions import col"
   ]
  },
  {
   "cell_type": "code",
   "execution_count": 3,
   "metadata": {},
   "outputs": [],
   "source": [
    "spark = SparkSession.builder.appName(\"Finance_Model_Training\").getOrCreate()"
   ]
  },
  {
   "cell_type": "code",
   "execution_count": 4,
   "metadata": {},
   "outputs": [],
   "source": [
    "train_df = spark.read.csv(\"data/Train_data.csv\", header=True, inferSchema=True)\n",
    "test_df = spark.read.csv(\"data/Train_data.csv\", header=True, inferSchema=True)"
   ]
  },
  {
   "cell_type": "code",
   "execution_count": 5,
   "metadata": {},
   "outputs": [
    {
     "name": "stdout",
     "output_type": "stream",
     "text": [
      "+--------+-------------+----------+----+---------+---------+----+--------------+------+---+-----------------+---------+---------------+----------+------------+--------+------------------+----------+----------------+-----------------+-------------+--------------+-----+---------+-----------+---------------+-----------+---------------+-------------+-------------+------------------+--------------+------------------+----------------------+----------------------+---------------------------+---------------------------+--------------------+------------------------+--------------------+------------------------+-------+\n",
      "|duration|protocol_type|   service|flag|src_bytes|dst_bytes|land|wrong_fragment|urgent|hot|num_failed_logins|logged_in|num_compromised|root_shell|su_attempted|num_root|num_file_creations|num_shells|num_access_files|num_outbound_cmds|is_host_login|is_guest_login|count|srv_count|serror_rate|srv_serror_rate|rerror_rate|srv_rerror_rate|same_srv_rate|diff_srv_rate|srv_diff_host_rate|dst_host_count|dst_host_srv_count|dst_host_same_srv_rate|dst_host_diff_srv_rate|dst_host_same_src_port_rate|dst_host_srv_diff_host_rate|dst_host_serror_rate|dst_host_srv_serror_rate|dst_host_rerror_rate|dst_host_srv_rerror_rate|  class|\n",
      "+--------+-------------+----------+----+---------+---------+----+--------------+------+---+-----------------+---------+---------------+----------+------------+--------+------------------+----------+----------------+-----------------+-------------+--------------+-----+---------+-----------+---------------+-----------+---------------+-------------+-------------+------------------+--------------+------------------+----------------------+----------------------+---------------------------+---------------------------+--------------------+------------------------+--------------------+------------------------+-------+\n",
      "|       0|          tcp|  ftp_data|  SF|      491|        0|   0|             0|     0|  0|                0|        0|              0|         0|           0|       0|                 0|         0|               0|                0|            0|             0|    2|        2|        0.0|            0.0|        0.0|            0.0|          1.0|          0.0|               0.0|           150|                25|                  0.17|                  0.03|                       0.17|                        0.0|                 0.0|                     0.0|                0.05|                     0.0| normal|\n",
      "|       0|          udp|     other|  SF|      146|        0|   0|             0|     0|  0|                0|        0|              0|         0|           0|       0|                 0|         0|               0|                0|            0|             0|   13|        1|        0.0|            0.0|        0.0|            0.0|         0.08|         0.15|               0.0|           255|                 1|                   0.0|                   0.6|                       0.88|                        0.0|                 0.0|                     0.0|                 0.0|                     0.0| normal|\n",
      "|       0|          tcp|   private|  S0|        0|        0|   0|             0|     0|  0|                0|        0|              0|         0|           0|       0|                 0|         0|               0|                0|            0|             0|  123|        6|        1.0|            1.0|        0.0|            0.0|         0.05|         0.07|               0.0|           255|                26|                   0.1|                  0.05|                        0.0|                        0.0|                 1.0|                     1.0|                 0.0|                     0.0|anomaly|\n",
      "|       0|          tcp|      http|  SF|      232|     8153|   0|             0|     0|  0|                0|        1|              0|         0|           0|       0|                 0|         0|               0|                0|            0|             0|    5|        5|        0.2|            0.2|        0.0|            0.0|          1.0|          0.0|               0.0|            30|               255|                   1.0|                   0.0|                       0.03|                       0.04|                0.03|                    0.01|                 0.0|                    0.01| normal|\n",
      "|       0|          tcp|      http|  SF|      199|      420|   0|             0|     0|  0|                0|        1|              0|         0|           0|       0|                 0|         0|               0|                0|            0|             0|   30|       32|        0.0|            0.0|        0.0|            0.0|          1.0|          0.0|              0.09|           255|               255|                   1.0|                   0.0|                        0.0|                        0.0|                 0.0|                     0.0|                 0.0|                     0.0| normal|\n",
      "|       0|          tcp|   private| REJ|        0|        0|   0|             0|     0|  0|                0|        0|              0|         0|           0|       0|                 0|         0|               0|                0|            0|             0|  121|       19|        0.0|            0.0|        1.0|            1.0|         0.16|         0.06|               0.0|           255|                19|                  0.07|                  0.07|                        0.0|                        0.0|                 0.0|                     0.0|                 1.0|                     1.0|anomaly|\n",
      "|       0|          tcp|   private|  S0|        0|        0|   0|             0|     0|  0|                0|        0|              0|         0|           0|       0|                 0|         0|               0|                0|            0|             0|  166|        9|        1.0|            1.0|        0.0|            0.0|         0.05|         0.06|               0.0|           255|                 9|                  0.04|                  0.05|                        0.0|                        0.0|                 1.0|                     1.0|                 0.0|                     0.0|anomaly|\n",
      "|       0|          tcp|   private|  S0|        0|        0|   0|             0|     0|  0|                0|        0|              0|         0|           0|       0|                 0|         0|               0|                0|            0|             0|  117|       16|        1.0|            1.0|        0.0|            0.0|         0.14|         0.06|               0.0|           255|                15|                  0.06|                  0.07|                        0.0|                        0.0|                 1.0|                     1.0|                 0.0|                     0.0|anomaly|\n",
      "|       0|          tcp|remote_job|  S0|        0|        0|   0|             0|     0|  0|                0|        0|              0|         0|           0|       0|                 0|         0|               0|                0|            0|             0|  270|       23|        1.0|            1.0|        0.0|            0.0|         0.09|         0.05|               0.0|           255|                23|                  0.09|                  0.05|                        0.0|                        0.0|                 1.0|                     1.0|                 0.0|                     0.0|anomaly|\n",
      "|       0|          tcp|   private|  S0|        0|        0|   0|             0|     0|  0|                0|        0|              0|         0|           0|       0|                 0|         0|               0|                0|            0|             0|  133|        8|        1.0|            1.0|        0.0|            0.0|         0.06|         0.06|               0.0|           255|                13|                  0.05|                  0.06|                        0.0|                        0.0|                 1.0|                     1.0|                 0.0|                     0.0|anomaly|\n",
      "|       0|          tcp|   private| REJ|        0|        0|   0|             0|     0|  0|                0|        0|              0|         0|           0|       0|                 0|         0|               0|                0|            0|             0|  205|       12|        0.0|            0.0|        1.0|            1.0|         0.06|         0.06|               0.0|           255|                12|                  0.05|                  0.07|                        0.0|                        0.0|                 0.0|                     0.0|                 1.0|                     1.0|anomaly|\n",
      "|       0|          tcp|   private|  S0|        0|        0|   0|             0|     0|  0|                0|        0|              0|         0|           0|       0|                 0|         0|               0|                0|            0|             0|  199|        3|        1.0|            1.0|        0.0|            0.0|         0.02|         0.06|               0.0|           255|                13|                  0.05|                  0.07|                        0.0|                        0.0|                 1.0|                     1.0|                 0.0|                     0.0|anomaly|\n",
      "|       0|          tcp|      http|  SF|      287|     2251|   0|             0|     0|  0|                0|        1|              0|         0|           0|       0|                 0|         0|               0|                0|            0|             0|    3|        7|        0.0|            0.0|        0.0|            0.0|          1.0|          0.0|              0.43|             8|               219|                   1.0|                   0.0|                       0.12|                       0.03|                 0.0|                     0.0|                 0.0|                     0.0| normal|\n",
      "|       0|          tcp|  ftp_data|  SF|      334|        0|   0|             0|     0|  0|                0|        1|              0|         0|           0|       0|                 0|         0|               0|                0|            0|             0|    2|        2|        0.0|            0.0|        0.0|            0.0|          1.0|          0.0|               0.0|             2|                20|                   1.0|                   0.0|                        1.0|                        0.2|                 0.0|                     0.0|                 0.0|                     0.0|anomaly|\n",
      "|       0|          tcp|      name|  S0|        0|        0|   0|             0|     0|  0|                0|        0|              0|         0|           0|       0|                 0|         0|               0|                0|            0|             0|  233|        1|        1.0|            1.0|        0.0|            0.0|          0.0|         0.06|               0.0|           255|                 1|                   0.0|                  0.07|                        0.0|                        0.0|                 1.0|                     1.0|                 0.0|                     0.0|anomaly|\n",
      "|       0|          tcp|netbios_ns|  S0|        0|        0|   0|             0|     0|  0|                0|        0|              0|         0|           0|       0|                 0|         0|               0|                0|            0|             0|   96|       16|        1.0|            1.0|        0.0|            0.0|         0.17|         0.05|               0.0|           255|                 2|                  0.01|                  0.06|                        0.0|                        0.0|                 1.0|                     1.0|                 0.0|                     0.0|anomaly|\n",
      "|       0|          tcp|      http|  SF|      300|    13788|   0|             0|     0|  0|                0|        1|              0|         0|           0|       0|                 0|         0|               0|                0|            0|             0|    8|        9|        0.0|           0.11|        0.0|            0.0|          1.0|          0.0|              0.22|            91|               255|                   1.0|                   0.0|                       0.01|                       0.02|                 0.0|                     0.0|                 0.0|                     0.0| normal|\n",
      "|       0|         icmp|     eco_i|  SF|       18|        0|   0|             0|     0|  0|                0|        0|              0|         0|           0|       0|                 0|         0|               0|                0|            0|             0|    1|        1|        0.0|            0.0|        0.0|            0.0|          1.0|          0.0|               0.0|             1|                16|                   1.0|                   0.0|                        1.0|                        1.0|                 0.0|                     0.0|                 0.0|                     0.0|anomaly|\n",
      "|       0|          tcp|      http|  SF|      233|      616|   0|             0|     0|  0|                0|        1|              0|         0|           0|       0|                 0|         0|               0|                0|            0|             0|    3|        3|        0.0|            0.0|        0.0|            0.0|          1.0|          0.0|               0.0|            66|               255|                   1.0|                   0.0|                       0.02|                       0.03|                 0.0|                     0.0|                0.02|                     0.0| normal|\n",
      "|       0|          tcp|      http|  SF|      343|     1178|   0|             0|     0|  0|                0|        1|              0|         0|           0|       0|                 0|         0|               0|                0|            0|             0|    9|       10|        0.0|            0.0|        0.0|            0.0|          1.0|          0.0|               0.2|           157|               255|                   1.0|                   0.0|                       0.01|                       0.04|                 0.0|                     0.0|                 0.0|                     0.0| normal|\n",
      "+--------+-------------+----------+----+---------+---------+----+--------------+------+---+-----------------+---------+---------------+----------+------------+--------+------------------+----------+----------------+-----------------+-------------+--------------+-----+---------+-----------+---------------+-----------+---------------+-------------+-------------+------------------+--------------+------------------+----------------------+----------------------+---------------------------+---------------------------+--------------------+------------------------+--------------------+------------------------+-------+\n",
      "only showing top 20 rows\n",
      "\n"
     ]
    }
   ],
   "source": [
    "train_df.show()"
   ]
  },
  {
   "cell_type": "code",
   "execution_count": 6,
   "metadata": {},
   "outputs": [
    {
     "data": {
      "text/plain": [
       "['duration',\n",
       " 'protocol_type',\n",
       " 'service',\n",
       " 'flag',\n",
       " 'src_bytes',\n",
       " 'dst_bytes',\n",
       " 'land',\n",
       " 'wrong_fragment',\n",
       " 'urgent',\n",
       " 'hot',\n",
       " 'num_failed_logins',\n",
       " 'logged_in',\n",
       " 'num_compromised',\n",
       " 'root_shell',\n",
       " 'su_attempted',\n",
       " 'num_root',\n",
       " 'num_file_creations',\n",
       " 'num_shells',\n",
       " 'num_access_files',\n",
       " 'num_outbound_cmds',\n",
       " 'is_host_login',\n",
       " 'is_guest_login',\n",
       " 'count',\n",
       " 'srv_count',\n",
       " 'serror_rate',\n",
       " 'srv_serror_rate',\n",
       " 'rerror_rate',\n",
       " 'srv_rerror_rate',\n",
       " 'same_srv_rate',\n",
       " 'diff_srv_rate',\n",
       " 'srv_diff_host_rate',\n",
       " 'dst_host_count',\n",
       " 'dst_host_srv_count',\n",
       " 'dst_host_same_srv_rate',\n",
       " 'dst_host_diff_srv_rate',\n",
       " 'dst_host_same_src_port_rate',\n",
       " 'dst_host_srv_diff_host_rate',\n",
       " 'dst_host_serror_rate',\n",
       " 'dst_host_srv_serror_rate',\n",
       " 'dst_host_rerror_rate',\n",
       " 'dst_host_srv_rerror_rate',\n",
       " 'class']"
      ]
     },
     "execution_count": 6,
     "metadata": {},
     "output_type": "execute_result"
    }
   ],
   "source": [
    "train_df.columns"
   ]
  },
  {
   "cell_type": "markdown",
   "metadata": {},
   "source": [
    "### To understand what features we are playing with, description of all the features is given below:\n",
    "\n",
    "##### **Basic features which describe the connection without looking at the payload**\n",
    "- **duration** – Length (in seconds) of the connection.\n",
    "- **protocol_type** – Network protocol used (e.g., TCP, UDP, ICMP).\n",
    "- **service** – Destination service (e.g., http, telnet, ftp).\n",
    "- **flag** – Status flag of the connection (e.g., S0, SF, REJ).\n",
    "- **src_bytes** – Number of data bytes sent from source to destination.\n",
    "- **dst_bytes** – Number of data bytes sent from destination to source.\n",
    "- **land** – 1 if connection is from/to the same host/port; 0 otherwise.\n",
    "- **wrong_fragment** – Number of wrong fragments in the packet.\n",
    "- **urgent** – Number of urgent packets.\n",
    "##### **Content features which describe what is within the connection payload**\n",
    "- **hot** – Number of “hot” indicators (e.g., suspicious commands).\n",
    "- **num_failed_logins** – Number of failed login attempts.\n",
    "- **logged_in** – 1 if successfully logged in; 0 otherwise.\n",
    "- **num_compromised** – Number of compromised conditions.\n",
    "- **root_shell** – 1 if root shell is obtained; 0 otherwise.\n",
    "- **su_attempted** – 1 if “su root” command attempted; 0 otherwise.\n",
    "- **num_root** – Number of “root” accesses.\n",
    "- **num_file_creations** – Number of file creation operations.\n",
    "- **num_shells** – Number of shell prompts opened.\n",
    "- **num_access_files** – Number of attempts to access control files.\n",
    "- **num_outbound_cmds** – Number of outbound commands.\n",
    "- **is_host_login** – 1 if user is a “host login”; 0 otherwise.\n",
    "- **is_guest_login** – 1 if user is a “guest login”; 0 otherwise.\n",
    "##### **Traffic features based on the past 2 seconds wiindow for same host\n",
    "- **count** – Number of connections to the same host in the past 2 seconds.\n",
    "- **srv_count** – Number of connections to the same service.\n",
    "- **serror_rate** – % of connections with “SYN” errors.\n",
    "- **srv_serror_rate** – % of connections with “SYN” errors to the same service.\n",
    "- **rerror_rate** – % of connections with “REJ” errors.\n",
    "- **srv_rerror_rate** – % of REJ errors to the same service.\n",
    "- **same_srv_rate** – % of connections to the same service.\n",
    "- **diff_srv_rate** – % of connections to different services.\n",
    "- **srv_diff_host_rate** – % of connections to the same service but different host.\n",
    "- **dst_host_count** – Number of connections to the destination host.\n",
    "- **dst_host_srv_count** – Connections to the destination host using the same service.\n",
    "- **dst_host_same_srv_rate** – % of same-service connections among dst_host_count.\n",
    "- **dst_host_diff_srv_rate** – % of different-service connections.\n",
    "- **dst_host_same_src_port_rate** – % of connections from same source port.\n",
    "- **dst_host_srv_diff_host_rate** – % of same-service connections to different hosts.\n",
    "- **dst_host_serror_rate** – % of connections with SYN errors.\n",
    "- **dst_host_srv_serror_rate** – % of same-service SYN errors.\n",
    "- **dst_host_rerror_rate** – % of connections with REJ errors.\n",
    "- **dst_host_srv_rerror_rate** – % of same-service REJ errors.\n",
    "##### **Label**\n",
    "- **class** - either \"normal\" or \"anomally\""
   ]
  },
  {
   "cell_type": "markdown",
   "metadata": {},
   "source": [
    "#### Let's see if the data has duplicates and/or missing values"
   ]
  },
  {
   "cell_type": "code",
   "execution_count": 7,
   "metadata": {},
   "outputs": [
    {
     "name": "stdout",
     "output_type": "stream",
     "text": [
      "No missing values in the dataset\n",
      "No duplicates in the dataset\n"
     ]
    }
   ],
   "source": [
    "if train_df.count() == train_df.na.drop(how=\"any\").count():\n",
    "    print(\"No missing values in the dataset\")\n",
    "else:\n",
    "    print(\"Missing values, need to treat the dataset\")\n",
    "\n",
    "if train_df.count() == train_df.dropDuplicates().count():\n",
    "    print(\"No duplicates in the dataset\")\n",
    "else:\n",
    "    print(\"Duplicate values, need to treat the dataset\")"
   ]
  },
  {
   "cell_type": "markdown",
   "metadata": {},
   "source": [
    "Lets check the data distribution for all the columns"
   ]
  },
  {
   "cell_type": "code",
   "execution_count": 8,
   "metadata": {},
   "outputs": [
    {
     "name": "stdout",
     "output_type": "stream",
     "text": [
      "+-------+------------------+-------------+-------+-----+------------------+------------------+--------------------+--------------------+--------------------+-------------------+--------------------+-------------------+-------------------+--------------------+--------------------+------------------+--------------------+--------------------+--------------------+-----------------+-------------+--------------------+------------------+-----------------+-------------------+-------------------+-------------------+-------------------+------------------+-------------------+-------------------+------------------+------------------+----------------------+----------------------+---------------------------+---------------------------+--------------------+------------------------+--------------------+------------------------+-------+\n",
      "|summary|          duration|protocol_type|service| flag|         src_bytes|         dst_bytes|                land|      wrong_fragment|              urgent|                hot|   num_failed_logins|          logged_in|    num_compromised|          root_shell|        su_attempted|          num_root|  num_file_creations|          num_shells|    num_access_files|num_outbound_cmds|is_host_login|      is_guest_login|             count|        srv_count|        serror_rate|    srv_serror_rate|        rerror_rate|    srv_rerror_rate|     same_srv_rate|      diff_srv_rate| srv_diff_host_rate|    dst_host_count|dst_host_srv_count|dst_host_same_srv_rate|dst_host_diff_srv_rate|dst_host_same_src_port_rate|dst_host_srv_diff_host_rate|dst_host_serror_rate|dst_host_srv_serror_rate|dst_host_rerror_rate|dst_host_srv_rerror_rate|  class|\n",
      "+-------+------------------+-------------+-------+-----+------------------+------------------+--------------------+--------------------+--------------------+-------------------+--------------------+-------------------+-------------------+--------------------+--------------------+------------------+--------------------+--------------------+--------------------+-----------------+-------------+--------------------+------------------+-----------------+-------------------+-------------------+-------------------+-------------------+------------------+-------------------+-------------------+------------------+------------------+----------------------+----------------------+---------------------------+---------------------------+--------------------+------------------------+--------------------+------------------------+-------+\n",
      "|  count|             25192|        25192|  25192|25192|             25192|             25192|               25192|               25192|               25192|              25192|               25192|              25192|              25192|               25192|               25192|             25192|               25192|               25192|               25192|            25192|        25192|               25192|             25192|            25192|              25192|              25192|              25192|              25192|             25192|              25192|              25192|             25192|             25192|                 25192|                 25192|                      25192|                      25192|               25192|                   25192|               25192|                   25192|  25192|\n",
      "|   mean|305.05410447761193|         NULL|   NULL| NULL|24330.628215306446|3491.8471737059385|7.939028262940616E-5|0.023737694506192442|3.969514131470308E-5|0.19803906001905366|0.001190854239441...| 0.3947681803747221|0.22785011114639567|0.001548110511273...|0.001349634804699...|0.2498412194347412|0.014726897427754843|3.572562718323277E-4|0.004326770403302636|              0.0|          0.0|0.009129882502381708| 84.59117973959987|27.69875357256272| 0.2863377262623057| 0.2837623054938076| 0.1186301206732296|0.12026040012702444|0.6605589075897269|0.06236305176245632|0.09593085106383017|182.53207367418227|115.06303588440775|     0.519790806605293|   0.08253850428706398|        0.14745276278184874|       0.031844236265478706|  0.2858002540489096|      0.2798463798031175| 0.11780009526833982|     0.11876945061924482|   NULL|\n",
      "| stddev| 2686.555640061755|         NULL|   NULL| NULL| 2410805.402027761| 88830.71832952353|0.008909945628106706| 0.26022077717098974|0.006300408027636234| 2.1542017672082787|0.045418180259924744|0.48881054481942554| 10.417352037211344| 0.03931634806138924|0.048785053433153605| 11.50084179738788|  0.5296023001894304|0.018898222578410288| 0.09852397677562588|              0.0|          0.0| 0.09511512427225721|114.67345089343632|72.46824199226845|0.44731232268498944|0.44759890774142674|0.31874547077645476| 0.3223353518727588|0.4396373803297487|0.17854999615939898|0.25658284688538696| 98.99389515528158|110.64685035369354|   0.44894391743819656|   0.18719111353591167|        0.30836659108783937|        0.11057496885808385|  0.4453164751115453|      0.4460753261474882| 0.30586924566877277|     0.31733346824600817|   NULL|\n",
      "|    min|                 0|         icmp|    IRC|  OTH|                 0|                 0|                   0|                   0|                   0|                  0|                   0|                  0|                  0|                   0|                   0|                 0|                   0|                   0|                   0|                0|            0|                   0|                 1|                1|                0.0|                0.0|                0.0|                0.0|               0.0|                0.0|                0.0|                 0|                 0|                   0.0|                   0.0|                        0.0|                        0.0|                 0.0|                     0.0|                 0.0|                     0.0|anomaly|\n",
      "|    max|             42862|          udp|  whois|   SH|         381709090|           5151385|                   1|                   3|                   1|                 77|                   4|                  1|                884|                   1|                   2|               975|                  40|                   1|                   8|                0|            0|                   1|               511|              511|                1.0|                1.0|                1.0|                1.0|               1.0|                1.0|                1.0|               255|               255|                   1.0|                   1.0|                        1.0|                        1.0|                 1.0|                     1.0|                 1.0|                     1.0| normal|\n",
      "+-------+------------------+-------------+-------+-----+------------------+------------------+--------------------+--------------------+--------------------+-------------------+--------------------+-------------------+-------------------+--------------------+--------------------+------------------+--------------------+--------------------+--------------------+-----------------+-------------+--------------------+------------------+-----------------+-------------------+-------------------+-------------------+-------------------+------------------+-------------------+-------------------+------------------+------------------+----------------------+----------------------+---------------------------+---------------------------+--------------------+------------------------+--------------------+------------------------+-------+\n",
      "\n"
     ]
    }
   ],
   "source": [
    "train_df.describe().show()"
   ]
  },
  {
   "cell_type": "markdown",
   "metadata": {},
   "source": [
    "You can notice that some of the columns min, max, average and median is the same value, hence they don't have any value variation. Dropping these columns will help make our training more efficient"
   ]
  },
  {
   "cell_type": "code",
   "execution_count": 9,
   "metadata": {},
   "outputs": [],
   "source": [
    "train_df = train_df.drop(\"num_outbound_cmds\", \"is_host_login\")"
   ]
  },
  {
   "cell_type": "markdown",
   "metadata": {},
   "source": [
    "# FEATURE SELECTION"
   ]
  },
  {
   "cell_type": "markdown",
   "metadata": {},
   "source": [
    "We will not be checking for outliers in the data as they are valuable for the potential anomally detection i.e. financial fraud. We will look into class imbalance and resolve it further"
   ]
  },
  {
   "cell_type": "code",
   "execution_count": 11,
   "metadata": {},
   "outputs": [
    {
     "name": "stdout",
     "output_type": "stream",
     "text": [
      "+-------+------+\n",
      "|anomaly|normal|\n",
      "+-------+------+\n",
      "|  11743| 13449|\n",
      "+-------+------+\n",
      "\n"
     ]
    }
   ],
   "source": [
    "train_df.groupBy().pivot(\"class\").count().show()"
   ]
  },
  {
   "cell_type": "markdown",
   "metadata": {},
   "source": [
    "The classes are in the ratio of 45:55 which is decently balanced, hence we don't need to do further balancing in such scenario. Lets check if the datatypes are assigned accurately or if they need to be changed"
   ]
  },
  {
   "cell_type": "code",
   "execution_count": 12,
   "metadata": {},
   "outputs": [
    {
     "name": "stdout",
     "output_type": "stream",
     "text": [
      "+--------+-------------+----------+----+---------+---------+----+--------------+------+---+-----------------+---------+---------------+----------+------------+--------+------------------+----------+----------------+--------------+-----+---------+-----------+---------------+-----------+---------------+-------------+-------------+------------------+--------------+------------------+----------------------+----------------------+---------------------------+---------------------------+--------------------+------------------------+--------------------+------------------------+-------+\n",
      "|duration|protocol_type|   service|flag|src_bytes|dst_bytes|land|wrong_fragment|urgent|hot|num_failed_logins|logged_in|num_compromised|root_shell|su_attempted|num_root|num_file_creations|num_shells|num_access_files|is_guest_login|count|srv_count|serror_rate|srv_serror_rate|rerror_rate|srv_rerror_rate|same_srv_rate|diff_srv_rate|srv_diff_host_rate|dst_host_count|dst_host_srv_count|dst_host_same_srv_rate|dst_host_diff_srv_rate|dst_host_same_src_port_rate|dst_host_srv_diff_host_rate|dst_host_serror_rate|dst_host_srv_serror_rate|dst_host_rerror_rate|dst_host_srv_rerror_rate|  class|\n",
      "+--------+-------------+----------+----+---------+---------+----+--------------+------+---+-----------------+---------+---------------+----------+------------+--------+------------------+----------+----------------+--------------+-----+---------+-----------+---------------+-----------+---------------+-------------+-------------+------------------+--------------+------------------+----------------------+----------------------+---------------------------+---------------------------+--------------------+------------------------+--------------------+------------------------+-------+\n",
      "|       0|          tcp|  ftp_data|  SF|      491|        0|   0|             0|     0|  0|                0|        0|              0|         0|           0|       0|                 0|         0|               0|             0|    2|        2|        0.0|            0.0|        0.0|            0.0|          1.0|          0.0|               0.0|           150|                25|                  0.17|                  0.03|                       0.17|                        0.0|                 0.0|                     0.0|                0.05|                     0.0| normal|\n",
      "|       0|          udp|     other|  SF|      146|        0|   0|             0|     0|  0|                0|        0|              0|         0|           0|       0|                 0|         0|               0|             0|   13|        1|        0.0|            0.0|        0.0|            0.0|         0.08|         0.15|               0.0|           255|                 1|                   0.0|                   0.6|                       0.88|                        0.0|                 0.0|                     0.0|                 0.0|                     0.0| normal|\n",
      "|       0|          tcp|   private|  S0|        0|        0|   0|             0|     0|  0|                0|        0|              0|         0|           0|       0|                 0|         0|               0|             0|  123|        6|        1.0|            1.0|        0.0|            0.0|         0.05|         0.07|               0.0|           255|                26|                   0.1|                  0.05|                        0.0|                        0.0|                 1.0|                     1.0|                 0.0|                     0.0|anomaly|\n",
      "|       0|          tcp|      http|  SF|      232|     8153|   0|             0|     0|  0|                0|        1|              0|         0|           0|       0|                 0|         0|               0|             0|    5|        5|        0.2|            0.2|        0.0|            0.0|          1.0|          0.0|               0.0|            30|               255|                   1.0|                   0.0|                       0.03|                       0.04|                0.03|                    0.01|                 0.0|                    0.01| normal|\n",
      "|       0|          tcp|      http|  SF|      199|      420|   0|             0|     0|  0|                0|        1|              0|         0|           0|       0|                 0|         0|               0|             0|   30|       32|        0.0|            0.0|        0.0|            0.0|          1.0|          0.0|              0.09|           255|               255|                   1.0|                   0.0|                        0.0|                        0.0|                 0.0|                     0.0|                 0.0|                     0.0| normal|\n",
      "|       0|          tcp|   private| REJ|        0|        0|   0|             0|     0|  0|                0|        0|              0|         0|           0|       0|                 0|         0|               0|             0|  121|       19|        0.0|            0.0|        1.0|            1.0|         0.16|         0.06|               0.0|           255|                19|                  0.07|                  0.07|                        0.0|                        0.0|                 0.0|                     0.0|                 1.0|                     1.0|anomaly|\n",
      "|       0|          tcp|   private|  S0|        0|        0|   0|             0|     0|  0|                0|        0|              0|         0|           0|       0|                 0|         0|               0|             0|  166|        9|        1.0|            1.0|        0.0|            0.0|         0.05|         0.06|               0.0|           255|                 9|                  0.04|                  0.05|                        0.0|                        0.0|                 1.0|                     1.0|                 0.0|                     0.0|anomaly|\n",
      "|       0|          tcp|   private|  S0|        0|        0|   0|             0|     0|  0|                0|        0|              0|         0|           0|       0|                 0|         0|               0|             0|  117|       16|        1.0|            1.0|        0.0|            0.0|         0.14|         0.06|               0.0|           255|                15|                  0.06|                  0.07|                        0.0|                        0.0|                 1.0|                     1.0|                 0.0|                     0.0|anomaly|\n",
      "|       0|          tcp|remote_job|  S0|        0|        0|   0|             0|     0|  0|                0|        0|              0|         0|           0|       0|                 0|         0|               0|             0|  270|       23|        1.0|            1.0|        0.0|            0.0|         0.09|         0.05|               0.0|           255|                23|                  0.09|                  0.05|                        0.0|                        0.0|                 1.0|                     1.0|                 0.0|                     0.0|anomaly|\n",
      "|       0|          tcp|   private|  S0|        0|        0|   0|             0|     0|  0|                0|        0|              0|         0|           0|       0|                 0|         0|               0|             0|  133|        8|        1.0|            1.0|        0.0|            0.0|         0.06|         0.06|               0.0|           255|                13|                  0.05|                  0.06|                        0.0|                        0.0|                 1.0|                     1.0|                 0.0|                     0.0|anomaly|\n",
      "|       0|          tcp|   private| REJ|        0|        0|   0|             0|     0|  0|                0|        0|              0|         0|           0|       0|                 0|         0|               0|             0|  205|       12|        0.0|            0.0|        1.0|            1.0|         0.06|         0.06|               0.0|           255|                12|                  0.05|                  0.07|                        0.0|                        0.0|                 0.0|                     0.0|                 1.0|                     1.0|anomaly|\n",
      "|       0|          tcp|   private|  S0|        0|        0|   0|             0|     0|  0|                0|        0|              0|         0|           0|       0|                 0|         0|               0|             0|  199|        3|        1.0|            1.0|        0.0|            0.0|         0.02|         0.06|               0.0|           255|                13|                  0.05|                  0.07|                        0.0|                        0.0|                 1.0|                     1.0|                 0.0|                     0.0|anomaly|\n",
      "|       0|          tcp|      http|  SF|      287|     2251|   0|             0|     0|  0|                0|        1|              0|         0|           0|       0|                 0|         0|               0|             0|    3|        7|        0.0|            0.0|        0.0|            0.0|          1.0|          0.0|              0.43|             8|               219|                   1.0|                   0.0|                       0.12|                       0.03|                 0.0|                     0.0|                 0.0|                     0.0| normal|\n",
      "|       0|          tcp|  ftp_data|  SF|      334|        0|   0|             0|     0|  0|                0|        1|              0|         0|           0|       0|                 0|         0|               0|             0|    2|        2|        0.0|            0.0|        0.0|            0.0|          1.0|          0.0|               0.0|             2|                20|                   1.0|                   0.0|                        1.0|                        0.2|                 0.0|                     0.0|                 0.0|                     0.0|anomaly|\n",
      "|       0|          tcp|      name|  S0|        0|        0|   0|             0|     0|  0|                0|        0|              0|         0|           0|       0|                 0|         0|               0|             0|  233|        1|        1.0|            1.0|        0.0|            0.0|          0.0|         0.06|               0.0|           255|                 1|                   0.0|                  0.07|                        0.0|                        0.0|                 1.0|                     1.0|                 0.0|                     0.0|anomaly|\n",
      "|       0|          tcp|netbios_ns|  S0|        0|        0|   0|             0|     0|  0|                0|        0|              0|         0|           0|       0|                 0|         0|               0|             0|   96|       16|        1.0|            1.0|        0.0|            0.0|         0.17|         0.05|               0.0|           255|                 2|                  0.01|                  0.06|                        0.0|                        0.0|                 1.0|                     1.0|                 0.0|                     0.0|anomaly|\n",
      "|       0|          tcp|      http|  SF|      300|    13788|   0|             0|     0|  0|                0|        1|              0|         0|           0|       0|                 0|         0|               0|             0|    8|        9|        0.0|           0.11|        0.0|            0.0|          1.0|          0.0|              0.22|            91|               255|                   1.0|                   0.0|                       0.01|                       0.02|                 0.0|                     0.0|                 0.0|                     0.0| normal|\n",
      "|       0|         icmp|     eco_i|  SF|       18|        0|   0|             0|     0|  0|                0|        0|              0|         0|           0|       0|                 0|         0|               0|             0|    1|        1|        0.0|            0.0|        0.0|            0.0|          1.0|          0.0|               0.0|             1|                16|                   1.0|                   0.0|                        1.0|                        1.0|                 0.0|                     0.0|                 0.0|                     0.0|anomaly|\n",
      "|       0|          tcp|      http|  SF|      233|      616|   0|             0|     0|  0|                0|        1|              0|         0|           0|       0|                 0|         0|               0|             0|    3|        3|        0.0|            0.0|        0.0|            0.0|          1.0|          0.0|               0.0|            66|               255|                   1.0|                   0.0|                       0.02|                       0.03|                 0.0|                     0.0|                0.02|                     0.0| normal|\n",
      "|       0|          tcp|      http|  SF|      343|     1178|   0|             0|     0|  0|                0|        1|              0|         0|           0|       0|                 0|         0|               0|             0|    9|       10|        0.0|            0.0|        0.0|            0.0|          1.0|          0.0|               0.2|           157|               255|                   1.0|                   0.0|                       0.01|                       0.04|                 0.0|                     0.0|                 0.0|                     0.0| normal|\n",
      "+--------+-------------+----------+----+---------+---------+----+--------------+------+---+-----------------+---------+---------------+----------+------------+--------+------------------+----------+----------------+--------------+-----+---------+-----------+---------------+-----------+---------------+-------------+-------------+------------------+--------------+------------------+----------------------+----------------------+---------------------------+---------------------------+--------------------+------------------------+--------------------+------------------------+-------+\n",
      "only showing top 20 rows\n",
      "\n"
     ]
    }
   ],
   "source": [
    "train_df.show()"
   ]
  },
  {
   "cell_type": "code",
   "execution_count": 13,
   "metadata": {},
   "outputs": [
    {
     "name": "stdout",
     "output_type": "stream",
     "text": [
      "root\n",
      " |-- duration: integer (nullable = true)\n",
      " |-- protocol_type: string (nullable = true)\n",
      " |-- service: string (nullable = true)\n",
      " |-- flag: string (nullable = true)\n",
      " |-- src_bytes: integer (nullable = true)\n",
      " |-- dst_bytes: integer (nullable = true)\n",
      " |-- land: integer (nullable = true)\n",
      " |-- wrong_fragment: integer (nullable = true)\n",
      " |-- urgent: integer (nullable = true)\n",
      " |-- hot: integer (nullable = true)\n",
      " |-- num_failed_logins: integer (nullable = true)\n",
      " |-- logged_in: integer (nullable = true)\n",
      " |-- num_compromised: integer (nullable = true)\n",
      " |-- root_shell: integer (nullable = true)\n",
      " |-- su_attempted: integer (nullable = true)\n",
      " |-- num_root: integer (nullable = true)\n",
      " |-- num_file_creations: integer (nullable = true)\n",
      " |-- num_shells: integer (nullable = true)\n",
      " |-- num_access_files: integer (nullable = true)\n",
      " |-- is_guest_login: integer (nullable = true)\n",
      " |-- count: integer (nullable = true)\n",
      " |-- srv_count: integer (nullable = true)\n",
      " |-- serror_rate: double (nullable = true)\n",
      " |-- srv_serror_rate: double (nullable = true)\n",
      " |-- rerror_rate: double (nullable = true)\n",
      " |-- srv_rerror_rate: double (nullable = true)\n",
      " |-- same_srv_rate: double (nullable = true)\n",
      " |-- diff_srv_rate: double (nullable = true)\n",
      " |-- srv_diff_host_rate: double (nullable = true)\n",
      " |-- dst_host_count: integer (nullable = true)\n",
      " |-- dst_host_srv_count: integer (nullable = true)\n",
      " |-- dst_host_same_srv_rate: double (nullable = true)\n",
      " |-- dst_host_diff_srv_rate: double (nullable = true)\n",
      " |-- dst_host_same_src_port_rate: double (nullable = true)\n",
      " |-- dst_host_srv_diff_host_rate: double (nullable = true)\n",
      " |-- dst_host_serror_rate: double (nullable = true)\n",
      " |-- dst_host_srv_serror_rate: double (nullable = true)\n",
      " |-- dst_host_rerror_rate: double (nullable = true)\n",
      " |-- dst_host_srv_rerror_rate: double (nullable = true)\n",
      " |-- class: string (nullable = true)\n",
      "\n"
     ]
    }
   ],
   "source": [
    "train_df.printSchema()"
   ]
  },
  {
   "cell_type": "markdown",
   "metadata": {},
   "source": [
    "#### The columns look fine and the correct values seem to be assigned. Lets encode all the string columns to indexed columns and then perform one hot encoding, so its readable to our ML model"
   ]
  },
  {
   "cell_type": "code",
   "execution_count": 14,
   "metadata": {},
   "outputs": [],
   "source": [
    "# Getting all the column names which are string\n",
    "columnList = [item[0] for item in train_df.dtypes if item[1].startswith('string')]"
   ]
  },
  {
   "cell_type": "code",
   "execution_count": 15,
   "metadata": {},
   "outputs": [
    {
     "name": "stdout",
     "output_type": "stream",
     "text": [
      "+-------------+----------+----+-------+-------------------+-------------+----------+-----------+-----------------+---------------+--------------+-------------+\n",
      "|protocol_type|   service|flag|  class|protocol_type_index|service_index|flag_index|class_index|protocol_type_ohe|    service_ohe|      flag_ohe|    class_ohe|\n",
      "+-------------+----------+----+-------+-------------------+-------------+----------+-----------+-----------------+---------------+--------------+-------------+\n",
      "|          tcp|  ftp_data|  SF| normal|                0.0|          4.0|       0.0|        0.0|    (2,[0],[1.0])| (65,[4],[1.0])|(10,[0],[1.0])|(1,[0],[1.0])|\n",
      "|          udp|     other|  SF| normal|                1.0|          6.0|       0.0|        0.0|    (2,[1],[1.0])| (65,[6],[1.0])|(10,[0],[1.0])|(1,[0],[1.0])|\n",
      "|          tcp|   private|  S0|anomaly|                0.0|          1.0|       1.0|        1.0|    (2,[0],[1.0])| (65,[1],[1.0])|(10,[1],[1.0])|    (1,[],[])|\n",
      "|          tcp|      http|  SF| normal|                0.0|          0.0|       0.0|        0.0|    (2,[0],[1.0])| (65,[0],[1.0])|(10,[0],[1.0])|(1,[0],[1.0])|\n",
      "|          tcp|      http|  SF| normal|                0.0|          0.0|       0.0|        0.0|    (2,[0],[1.0])| (65,[0],[1.0])|(10,[0],[1.0])|(1,[0],[1.0])|\n",
      "|          tcp|   private| REJ|anomaly|                0.0|          1.0|       2.0|        1.0|    (2,[0],[1.0])| (65,[1],[1.0])|(10,[2],[1.0])|    (1,[],[])|\n",
      "|          tcp|   private|  S0|anomaly|                0.0|          1.0|       1.0|        1.0|    (2,[0],[1.0])| (65,[1],[1.0])|(10,[1],[1.0])|    (1,[],[])|\n",
      "|          tcp|   private|  S0|anomaly|                0.0|          1.0|       1.0|        1.0|    (2,[0],[1.0])| (65,[1],[1.0])|(10,[1],[1.0])|    (1,[],[])|\n",
      "|          tcp|remote_job|  S0|anomaly|                0.0|         58.0|       1.0|        1.0|    (2,[0],[1.0])|(65,[58],[1.0])|(10,[1],[1.0])|    (1,[],[])|\n",
      "|          tcp|   private|  S0|anomaly|                0.0|          1.0|       1.0|        1.0|    (2,[0],[1.0])| (65,[1],[1.0])|(10,[1],[1.0])|    (1,[],[])|\n",
      "|          tcp|   private| REJ|anomaly|                0.0|          1.0|       2.0|        1.0|    (2,[0],[1.0])| (65,[1],[1.0])|(10,[2],[1.0])|    (1,[],[])|\n",
      "|          tcp|   private|  S0|anomaly|                0.0|          1.0|       1.0|        1.0|    (2,[0],[1.0])| (65,[1],[1.0])|(10,[1],[1.0])|    (1,[],[])|\n",
      "|          tcp|      http|  SF| normal|                0.0|          0.0|       0.0|        0.0|    (2,[0],[1.0])| (65,[0],[1.0])|(10,[0],[1.0])|(1,[0],[1.0])|\n",
      "|          tcp|  ftp_data|  SF|anomaly|                0.0|          4.0|       0.0|        1.0|    (2,[0],[1.0])| (65,[4],[1.0])|(10,[0],[1.0])|    (1,[],[])|\n",
      "|          tcp|      name|  S0|anomaly|                0.0|         35.0|       1.0|        1.0|    (2,[0],[1.0])|(65,[35],[1.0])|(10,[1],[1.0])|    (1,[],[])|\n",
      "|          tcp|netbios_ns|  S0|anomaly|                0.0|         44.0|       1.0|        1.0|    (2,[0],[1.0])|(65,[44],[1.0])|(10,[1],[1.0])|    (1,[],[])|\n",
      "|          tcp|      http|  SF| normal|                0.0|          0.0|       0.0|        0.0|    (2,[0],[1.0])| (65,[0],[1.0])|(10,[0],[1.0])|(1,[0],[1.0])|\n",
      "|         icmp|     eco_i|  SF|anomaly|                2.0|          5.0|       0.0|        1.0|        (2,[],[])| (65,[5],[1.0])|(10,[0],[1.0])|    (1,[],[])|\n",
      "|          tcp|      http|  SF| normal|                0.0|          0.0|       0.0|        0.0|    (2,[0],[1.0])| (65,[0],[1.0])|(10,[0],[1.0])|(1,[0],[1.0])|\n",
      "|          tcp|      http|  SF| normal|                0.0|          0.0|       0.0|        0.0|    (2,[0],[1.0])| (65,[0],[1.0])|(10,[0],[1.0])|(1,[0],[1.0])|\n",
      "+-------------+----------+----+-------+-------------------+-------------+----------+-----------+-----------------+---------------+--------------+-------------+\n",
      "only showing top 20 rows\n",
      "\n"
     ]
    }
   ],
   "source": [
    "from pyspark.ml import Pipeline\n",
    "from pyspark.ml.feature import StringIndexer, OneHotEncoder\n",
    "\n",
    "index_cols = [c + \"_index\" for c in columnList]\n",
    "ohe_cols = [c + \"_ohe\" for c in columnList]\n",
    "\n",
    "# Step 1: Index string columns to numeric\n",
    "indexers = [StringIndexer(inputCol=c, outputCol=c + \"_index\") for c in columnList]\n",
    "\n",
    "# Step 2: OneHot encode the indexed columns\n",
    "ohe = OneHotEncoder(inputCols=index_cols, outputCols=ohe_cols)\n",
    "\n",
    "# Step 3: Build pipeline\n",
    "pipeline = Pipeline(stages=indexers + [ohe])\n",
    "\n",
    "# Fit and transform\n",
    "encoder_model = pipeline.fit(train_df)\n",
    "train_encoded_df = encoder_model.transform(train_df)\n",
    "test_encoded_df = encoder_model.transform(test_df)\n",
    "\n",
    "# To show the change from original value, indexed value and one hot encoded value\n",
    "train_encoded_df.select(columnList + index_cols + ohe_cols).show()\n",
    "\n",
    "train_encoded_df = train_encoded_df.drop(*(columnList + index_cols))\n",
    "test_encoded_df = train_encoded_df.drop(*(columnList + index_cols))"
   ]
  },
  {
   "cell_type": "markdown",
   "metadata": {},
   "source": [
    "You may notice that the one hot encoded values when \".show()\" is used don't look like arrays. However, they are arrays. To understand what it means, I will use an example given below:\n",
    "\n",
    "(65,[44],[1.0]) => the array has 65 values and the index 44 has a non-zero value i.e. 1.0"
   ]
  },
  {
   "cell_type": "markdown",
   "metadata": {},
   "source": [
    "Alright, we have done plenty of data preprocessing, we can move on to normalizing the data but before that, we have to use Vector Assembler to combine input columns into single vector column"
   ]
  },
  {
   "cell_type": "code",
   "execution_count": 26,
   "metadata": {},
   "outputs": [],
   "source": [
    "# Getting the list of input columns\n",
    "input_cols = train_encoded_df.columns\n",
    "input_cols.remove(\"class_ohe\")"
   ]
  },
  {
   "cell_type": "code",
   "execution_count": 28,
   "metadata": {},
   "outputs": [],
   "source": [
    "from pyspark.ml.feature import VectorAssembler, MinMaxScaler\n",
    "assembler = VectorAssembler(inputCols=input_cols, outputCol=\"features_vector\")\n",
    "train_assembled_df = assembler.transform(train_encoded_df)\n",
    "test_assembled_df = assembler.transform(test_encoded_df)"
   ]
  },
  {
   "cell_type": "code",
   "execution_count": 29,
   "metadata": {},
   "outputs": [],
   "source": [
    "scaler = MinMaxScaler(inputCol=\"features_vector\", outputCol=\"scaled_features\")\n",
    "scaler_model = scaler.fit(train_assembled_df)\n",
    "train_scaled_df = scaler_model.transform(train_assembled_df)\n",
    "test_scaled_df = scaler_model.transform(test_assembled_df)"
   ]
  },
  {
   "cell_type": "code",
   "execution_count": 32,
   "metadata": {},
   "outputs": [
    {
     "name": "stdout",
     "output_type": "stream",
     "text": [
      "+--------+---------+---------+----+--------------+------+---+-----------------+---------+---------------+----------+------------+--------+------------------+----------+----------------+--------------+-----+---------+-----------+---------------+-----------+---------------+-------------+-------------+------------------+--------------+------------------+----------------------+----------------------+---------------------------+---------------------------+--------------------+------------------------+--------------------+------------------------+-----------------+---------------+--------------+-------------+--------------------+--------------------+\n",
      "|duration|src_bytes|dst_bytes|land|wrong_fragment|urgent|hot|num_failed_logins|logged_in|num_compromised|root_shell|su_attempted|num_root|num_file_creations|num_shells|num_access_files|is_guest_login|count|srv_count|serror_rate|srv_serror_rate|rerror_rate|srv_rerror_rate|same_srv_rate|diff_srv_rate|srv_diff_host_rate|dst_host_count|dst_host_srv_count|dst_host_same_srv_rate|dst_host_diff_srv_rate|dst_host_same_src_port_rate|dst_host_srv_diff_host_rate|dst_host_serror_rate|dst_host_srv_serror_rate|dst_host_rerror_rate|dst_host_srv_rerror_rate|protocol_type_ohe|    service_ohe|      flag_ohe|    class_ohe|     features_vector|     scaled_features|\n",
      "+--------+---------+---------+----+--------------+------+---+-----------------+---------+---------------+----------+------------+--------+------------------+----------+----------------+--------------+-----+---------+-----------+---------------+-----------+---------------+-------------+-------------+------------------+--------------+------------------+----------------------+----------------------+---------------------------+---------------------------+--------------------+------------------------+--------------------+------------------------+-----------------+---------------+--------------+-------------+--------------------+--------------------+\n",
      "|       0|      491|        0|   0|             0|     0|  0|                0|        0|              0|         0|           0|       0|                 0|         0|               0|             0|    2|        2|        0.0|            0.0|        0.0|            0.0|          1.0|          0.0|               0.0|           150|                25|                  0.17|                  0.03|                       0.17|                        0.0|                 0.0|                     0.0|                0.05|                     0.0|    (2,[0],[1.0])| (65,[4],[1.0])|(10,[0],[1.0])|(1,[0],[1.0])|(113,[1,17,18,23,...|(113,[1,17,18,23,...|\n",
      "|       0|      146|        0|   0|             0|     0|  0|                0|        0|              0|         0|           0|       0|                 0|         0|               0|             0|   13|        1|        0.0|            0.0|        0.0|            0.0|         0.08|         0.15|               0.0|           255|                 1|                   0.0|                   0.6|                       0.88|                        0.0|                 0.0|                     0.0|                 0.0|                     0.0|    (2,[1],[1.0])| (65,[6],[1.0])|(10,[0],[1.0])|(1,[0],[1.0])|(113,[1,17,18,23,...|(113,[1,17,23,24,...|\n",
      "|       0|        0|        0|   0|             0|     0|  0|                0|        0|              0|         0|           0|       0|                 0|         0|               0|             0|  123|        6|        1.0|            1.0|        0.0|            0.0|         0.05|         0.07|               0.0|           255|                26|                   0.1|                  0.05|                        0.0|                        0.0|                 1.0|                     1.0|                 0.0|                     0.0|    (2,[0],[1.0])| (65,[1],[1.0])|(10,[1],[1.0])|    (1,[],[])|(113,[17,18,19,20...|(113,[17,18,19,20...|\n",
      "|       0|      232|     8153|   0|             0|     0|  0|                0|        1|              0|         0|           0|       0|                 0|         0|               0|             0|    5|        5|        0.2|            0.2|        0.0|            0.0|          1.0|          0.0|               0.0|            30|               255|                   1.0|                   0.0|                       0.03|                       0.04|                0.03|                    0.01|                 0.0|                    0.01|    (2,[0],[1.0])| (65,[0],[1.0])|(10,[0],[1.0])|(1,[0],[1.0])|(113,[1,2,8,17,18...|(113,[1,2,8,17,18...|\n",
      "|       0|      199|      420|   0|             0|     0|  0|                0|        1|              0|         0|           0|       0|                 0|         0|               0|             0|   30|       32|        0.0|            0.0|        0.0|            0.0|          1.0|          0.0|              0.09|           255|               255|                   1.0|                   0.0|                        0.0|                        0.0|                 0.0|                     0.0|                 0.0|                     0.0|    (2,[0],[1.0])| (65,[0],[1.0])|(10,[0],[1.0])|(1,[0],[1.0])|(113,[1,2,8,17,18...|(113,[1,2,8,17,18...|\n",
      "|       0|        0|        0|   0|             0|     0|  0|                0|        0|              0|         0|           0|       0|                 0|         0|               0|             0|  121|       19|        0.0|            0.0|        1.0|            1.0|         0.16|         0.06|               0.0|           255|                19|                  0.07|                  0.07|                        0.0|                        0.0|                 0.0|                     0.0|                 1.0|                     1.0|    (2,[0],[1.0])| (65,[1],[1.0])|(10,[2],[1.0])|    (1,[],[])|(113,[17,18,21,22...|(113,[17,18,21,22...|\n",
      "|       0|        0|        0|   0|             0|     0|  0|                0|        0|              0|         0|           0|       0|                 0|         0|               0|             0|  166|        9|        1.0|            1.0|        0.0|            0.0|         0.05|         0.06|               0.0|           255|                 9|                  0.04|                  0.05|                        0.0|                        0.0|                 1.0|                     1.0|                 0.0|                     0.0|    (2,[0],[1.0])| (65,[1],[1.0])|(10,[1],[1.0])|    (1,[],[])|(113,[17,18,19,20...|(113,[17,18,19,20...|\n",
      "|       0|        0|        0|   0|             0|     0|  0|                0|        0|              0|         0|           0|       0|                 0|         0|               0|             0|  117|       16|        1.0|            1.0|        0.0|            0.0|         0.14|         0.06|               0.0|           255|                15|                  0.06|                  0.07|                        0.0|                        0.0|                 1.0|                     1.0|                 0.0|                     0.0|    (2,[0],[1.0])| (65,[1],[1.0])|(10,[1],[1.0])|    (1,[],[])|(113,[17,18,19,20...|(113,[17,18,19,20...|\n",
      "|       0|        0|        0|   0|             0|     0|  0|                0|        0|              0|         0|           0|       0|                 0|         0|               0|             0|  270|       23|        1.0|            1.0|        0.0|            0.0|         0.09|         0.05|               0.0|           255|                23|                  0.09|                  0.05|                        0.0|                        0.0|                 1.0|                     1.0|                 0.0|                     0.0|    (2,[0],[1.0])|(65,[58],[1.0])|(10,[1],[1.0])|    (1,[],[])|(113,[17,18,19,20...|(113,[17,18,19,20...|\n",
      "|       0|        0|        0|   0|             0|     0|  0|                0|        0|              0|         0|           0|       0|                 0|         0|               0|             0|  133|        8|        1.0|            1.0|        0.0|            0.0|         0.06|         0.06|               0.0|           255|                13|                  0.05|                  0.06|                        0.0|                        0.0|                 1.0|                     1.0|                 0.0|                     0.0|    (2,[0],[1.0])| (65,[1],[1.0])|(10,[1],[1.0])|    (1,[],[])|(113,[17,18,19,20...|(113,[17,18,19,20...|\n",
      "|       0|        0|        0|   0|             0|     0|  0|                0|        0|              0|         0|           0|       0|                 0|         0|               0|             0|  205|       12|        0.0|            0.0|        1.0|            1.0|         0.06|         0.06|               0.0|           255|                12|                  0.05|                  0.07|                        0.0|                        0.0|                 0.0|                     0.0|                 1.0|                     1.0|    (2,[0],[1.0])| (65,[1],[1.0])|(10,[2],[1.0])|    (1,[],[])|(113,[17,18,21,22...|(113,[17,18,21,22...|\n",
      "|       0|        0|        0|   0|             0|     0|  0|                0|        0|              0|         0|           0|       0|                 0|         0|               0|             0|  199|        3|        1.0|            1.0|        0.0|            0.0|         0.02|         0.06|               0.0|           255|                13|                  0.05|                  0.07|                        0.0|                        0.0|                 1.0|                     1.0|                 0.0|                     0.0|    (2,[0],[1.0])| (65,[1],[1.0])|(10,[1],[1.0])|    (1,[],[])|(113,[17,18,19,20...|(113,[17,18,19,20...|\n",
      "|       0|      287|     2251|   0|             0|     0|  0|                0|        1|              0|         0|           0|       0|                 0|         0|               0|             0|    3|        7|        0.0|            0.0|        0.0|            0.0|          1.0|          0.0|              0.43|             8|               219|                   1.0|                   0.0|                       0.12|                       0.03|                 0.0|                     0.0|                 0.0|                     0.0|    (2,[0],[1.0])| (65,[0],[1.0])|(10,[0],[1.0])|(1,[0],[1.0])|(113,[1,2,8,17,18...|(113,[1,2,8,17,18...|\n",
      "|       0|      334|        0|   0|             0|     0|  0|                0|        1|              0|         0|           0|       0|                 0|         0|               0|             0|    2|        2|        0.0|            0.0|        0.0|            0.0|          1.0|          0.0|               0.0|             2|                20|                   1.0|                   0.0|                        1.0|                        0.2|                 0.0|                     0.0|                 0.0|                     0.0|    (2,[0],[1.0])| (65,[4],[1.0])|(10,[0],[1.0])|    (1,[],[])|(113,[1,8,17,18,2...|(113,[1,8,17,18,2...|\n",
      "|       0|        0|        0|   0|             0|     0|  0|                0|        0|              0|         0|           0|       0|                 0|         0|               0|             0|  233|        1|        1.0|            1.0|        0.0|            0.0|          0.0|         0.06|               0.0|           255|                 1|                   0.0|                  0.07|                        0.0|                        0.0|                 1.0|                     1.0|                 0.0|                     0.0|    (2,[0],[1.0])|(65,[35],[1.0])|(10,[1],[1.0])|    (1,[],[])|(113,[17,18,19,20...|(113,[17,19,20,24...|\n",
      "|       0|        0|        0|   0|             0|     0|  0|                0|        0|              0|         0|           0|       0|                 0|         0|               0|             0|   96|       16|        1.0|            1.0|        0.0|            0.0|         0.17|         0.05|               0.0|           255|                 2|                  0.01|                  0.06|                        0.0|                        0.0|                 1.0|                     1.0|                 0.0|                     0.0|    (2,[0],[1.0])|(65,[44],[1.0])|(10,[1],[1.0])|    (1,[],[])|(113,[17,18,19,20...|(113,[17,18,19,20...|\n",
      "|       0|      300|    13788|   0|             0|     0|  0|                0|        1|              0|         0|           0|       0|                 0|         0|               0|             0|    8|        9|        0.0|           0.11|        0.0|            0.0|          1.0|          0.0|              0.22|            91|               255|                   1.0|                   0.0|                       0.01|                       0.02|                 0.0|                     0.0|                 0.0|                     0.0|    (2,[0],[1.0])| (65,[0],[1.0])|(10,[0],[1.0])|(1,[0],[1.0])|(113,[1,2,8,17,18...|(113,[1,2,8,17,18...|\n",
      "|       0|       18|        0|   0|             0|     0|  0|                0|        0|              0|         0|           0|       0|                 0|         0|               0|             0|    1|        1|        0.0|            0.0|        0.0|            0.0|          1.0|          0.0|               0.0|             1|                16|                   1.0|                   0.0|                        1.0|                        1.0|                 0.0|                     0.0|                 0.0|                     0.0|        (2,[],[])| (65,[5],[1.0])|(10,[0],[1.0])|    (1,[],[])|(113,[1,17,18,23,...|(113,[1,23,26,27,...|\n",
      "|       0|      233|      616|   0|             0|     0|  0|                0|        1|              0|         0|           0|       0|                 0|         0|               0|             0|    3|        3|        0.0|            0.0|        0.0|            0.0|          1.0|          0.0|               0.0|            66|               255|                   1.0|                   0.0|                       0.02|                       0.03|                 0.0|                     0.0|                0.02|                     0.0|    (2,[0],[1.0])| (65,[0],[1.0])|(10,[0],[1.0])|(1,[0],[1.0])|(113,[1,2,8,17,18...|(113,[1,2,8,17,18...|\n",
      "|       0|      343|     1178|   0|             0|     0|  0|                0|        1|              0|         0|           0|       0|                 0|         0|               0|             0|    9|       10|        0.0|            0.0|        0.0|            0.0|          1.0|          0.0|               0.2|           157|               255|                   1.0|                   0.0|                       0.01|                       0.04|                 0.0|                     0.0|                 0.0|                     0.0|    (2,[0],[1.0])| (65,[0],[1.0])|(10,[0],[1.0])|(1,[0],[1.0])|(113,[1,2,8,17,18...|(113,[1,2,8,17,18...|\n",
      "+--------+---------+---------+----+--------------+------+---+-----------------+---------+---------------+----------+------------+--------+------------------+----------+----------------+--------------+-----+---------+-----------+---------------+-----------+---------------+-------------+-------------+------------------+--------------+------------------+----------------------+----------------------+---------------------------+---------------------------+--------------------+------------------------+--------------------+------------------------+-----------------+---------------+--------------+-------------+--------------------+--------------------+\n",
      "only showing top 20 rows\n",
      "\n"
     ]
    }
   ],
   "source": [
    "train_scaled_df.show()"
   ]
  },
  {
   "cell_type": "code",
   "execution_count": null,
   "metadata": {},
   "outputs": [],
   "source": []
  }
 ],
 "metadata": {
  "kernelspec": {
   "display_name": ".venv",
   "language": "python",
   "name": "python3"
  },
  "language_info": {
   "codemirror_mode": {
    "name": "ipython",
    "version": 3
   },
   "file_extension": ".py",
   "mimetype": "text/x-python",
   "name": "python",
   "nbconvert_exporter": "python",
   "pygments_lexer": "ipython3",
   "version": "3.11.8"
  }
 },
 "nbformat": 4,
 "nbformat_minor": 2
}

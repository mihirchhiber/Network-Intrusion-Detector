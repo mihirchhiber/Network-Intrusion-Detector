{
 "cells": [
  {
   "cell_type": "markdown",
   "metadata": {},
   "source": [
    "### Run the code below if pyspark operations throw random errors"
   ]
  },
  {
   "cell_type": "code",
   "execution_count": 1,
   "metadata": {},
   "outputs": [],
   "source": [
    "import shutil\n",
    "shutil.rmtree(\"C:/Users/m/AppData/Local/Temp\", ignore_errors=True) "
   ]
  },
  {
   "cell_type": "markdown",
   "metadata": {},
   "source": [
    "### Importing libraries, starting spark session and taking a look at the data"
   ]
  },
  {
   "cell_type": "code",
   "execution_count": 11,
   "metadata": {},
   "outputs": [],
   "source": [
    "from pyspark.sql import SparkSession\n",
    "from pyspark.sql.functions import col"
   ]
  },
  {
   "cell_type": "code",
   "execution_count": 3,
   "metadata": {},
   "outputs": [],
   "source": [
    "spark = SparkSession.builder.appName(\"Finance_Model_Training\").getOrCreate()"
   ]
  },
  {
   "cell_type": "code",
   "execution_count": 5,
   "metadata": {},
   "outputs": [],
   "source": [
    "df = spark.read.csv(\"data/Train_data.csv\", header=True, inferSchema=True)"
   ]
  },
  {
   "cell_type": "code",
   "execution_count": 6,
   "metadata": {},
   "outputs": [
    {
     "name": "stdout",
     "output_type": "stream",
     "text": [
      "+--------+-------------+----------+----+---------+---------+----+--------------+------+---+-----------------+---------+---------------+----------+------------+--------+------------------+----------+----------------+-----------------+-------------+--------------+-----+---------+-----------+---------------+-----------+---------------+-------------+-------------+------------------+--------------+------------------+----------------------+----------------------+---------------------------+---------------------------+--------------------+------------------------+--------------------+------------------------+-------+\n",
      "|duration|protocol_type|   service|flag|src_bytes|dst_bytes|land|wrong_fragment|urgent|hot|num_failed_logins|logged_in|num_compromised|root_shell|su_attempted|num_root|num_file_creations|num_shells|num_access_files|num_outbound_cmds|is_host_login|is_guest_login|count|srv_count|serror_rate|srv_serror_rate|rerror_rate|srv_rerror_rate|same_srv_rate|diff_srv_rate|srv_diff_host_rate|dst_host_count|dst_host_srv_count|dst_host_same_srv_rate|dst_host_diff_srv_rate|dst_host_same_src_port_rate|dst_host_srv_diff_host_rate|dst_host_serror_rate|dst_host_srv_serror_rate|dst_host_rerror_rate|dst_host_srv_rerror_rate|  class|\n",
      "+--------+-------------+----------+----+---------+---------+----+--------------+------+---+-----------------+---------+---------------+----------+------------+--------+------------------+----------+----------------+-----------------+-------------+--------------+-----+---------+-----------+---------------+-----------+---------------+-------------+-------------+------------------+--------------+------------------+----------------------+----------------------+---------------------------+---------------------------+--------------------+------------------------+--------------------+------------------------+-------+\n",
      "|       0|          tcp|  ftp_data|  SF|      491|        0|   0|             0|     0|  0|                0|        0|              0|         0|           0|       0|                 0|         0|               0|                0|            0|             0|    2|        2|        0.0|            0.0|        0.0|            0.0|          1.0|          0.0|               0.0|           150|                25|                  0.17|                  0.03|                       0.17|                        0.0|                 0.0|                     0.0|                0.05|                     0.0| normal|\n",
      "|       0|          udp|     other|  SF|      146|        0|   0|             0|     0|  0|                0|        0|              0|         0|           0|       0|                 0|         0|               0|                0|            0|             0|   13|        1|        0.0|            0.0|        0.0|            0.0|         0.08|         0.15|               0.0|           255|                 1|                   0.0|                   0.6|                       0.88|                        0.0|                 0.0|                     0.0|                 0.0|                     0.0| normal|\n",
      "|       0|          tcp|   private|  S0|        0|        0|   0|             0|     0|  0|                0|        0|              0|         0|           0|       0|                 0|         0|               0|                0|            0|             0|  123|        6|        1.0|            1.0|        0.0|            0.0|         0.05|         0.07|               0.0|           255|                26|                   0.1|                  0.05|                        0.0|                        0.0|                 1.0|                     1.0|                 0.0|                     0.0|anomaly|\n",
      "|       0|          tcp|      http|  SF|      232|     8153|   0|             0|     0|  0|                0|        1|              0|         0|           0|       0|                 0|         0|               0|                0|            0|             0|    5|        5|        0.2|            0.2|        0.0|            0.0|          1.0|          0.0|               0.0|            30|               255|                   1.0|                   0.0|                       0.03|                       0.04|                0.03|                    0.01|                 0.0|                    0.01| normal|\n",
      "|       0|          tcp|      http|  SF|      199|      420|   0|             0|     0|  0|                0|        1|              0|         0|           0|       0|                 0|         0|               0|                0|            0|             0|   30|       32|        0.0|            0.0|        0.0|            0.0|          1.0|          0.0|              0.09|           255|               255|                   1.0|                   0.0|                        0.0|                        0.0|                 0.0|                     0.0|                 0.0|                     0.0| normal|\n",
      "|       0|          tcp|   private| REJ|        0|        0|   0|             0|     0|  0|                0|        0|              0|         0|           0|       0|                 0|         0|               0|                0|            0|             0|  121|       19|        0.0|            0.0|        1.0|            1.0|         0.16|         0.06|               0.0|           255|                19|                  0.07|                  0.07|                        0.0|                        0.0|                 0.0|                     0.0|                 1.0|                     1.0|anomaly|\n",
      "|       0|          tcp|   private|  S0|        0|        0|   0|             0|     0|  0|                0|        0|              0|         0|           0|       0|                 0|         0|               0|                0|            0|             0|  166|        9|        1.0|            1.0|        0.0|            0.0|         0.05|         0.06|               0.0|           255|                 9|                  0.04|                  0.05|                        0.0|                        0.0|                 1.0|                     1.0|                 0.0|                     0.0|anomaly|\n",
      "|       0|          tcp|   private|  S0|        0|        0|   0|             0|     0|  0|                0|        0|              0|         0|           0|       0|                 0|         0|               0|                0|            0|             0|  117|       16|        1.0|            1.0|        0.0|            0.0|         0.14|         0.06|               0.0|           255|                15|                  0.06|                  0.07|                        0.0|                        0.0|                 1.0|                     1.0|                 0.0|                     0.0|anomaly|\n",
      "|       0|          tcp|remote_job|  S0|        0|        0|   0|             0|     0|  0|                0|        0|              0|         0|           0|       0|                 0|         0|               0|                0|            0|             0|  270|       23|        1.0|            1.0|        0.0|            0.0|         0.09|         0.05|               0.0|           255|                23|                  0.09|                  0.05|                        0.0|                        0.0|                 1.0|                     1.0|                 0.0|                     0.0|anomaly|\n",
      "|       0|          tcp|   private|  S0|        0|        0|   0|             0|     0|  0|                0|        0|              0|         0|           0|       0|                 0|         0|               0|                0|            0|             0|  133|        8|        1.0|            1.0|        0.0|            0.0|         0.06|         0.06|               0.0|           255|                13|                  0.05|                  0.06|                        0.0|                        0.0|                 1.0|                     1.0|                 0.0|                     0.0|anomaly|\n",
      "|       0|          tcp|   private| REJ|        0|        0|   0|             0|     0|  0|                0|        0|              0|         0|           0|       0|                 0|         0|               0|                0|            0|             0|  205|       12|        0.0|            0.0|        1.0|            1.0|         0.06|         0.06|               0.0|           255|                12|                  0.05|                  0.07|                        0.0|                        0.0|                 0.0|                     0.0|                 1.0|                     1.0|anomaly|\n",
      "|       0|          tcp|   private|  S0|        0|        0|   0|             0|     0|  0|                0|        0|              0|         0|           0|       0|                 0|         0|               0|                0|            0|             0|  199|        3|        1.0|            1.0|        0.0|            0.0|         0.02|         0.06|               0.0|           255|                13|                  0.05|                  0.07|                        0.0|                        0.0|                 1.0|                     1.0|                 0.0|                     0.0|anomaly|\n",
      "|       0|          tcp|      http|  SF|      287|     2251|   0|             0|     0|  0|                0|        1|              0|         0|           0|       0|                 0|         0|               0|                0|            0|             0|    3|        7|        0.0|            0.0|        0.0|            0.0|          1.0|          0.0|              0.43|             8|               219|                   1.0|                   0.0|                       0.12|                       0.03|                 0.0|                     0.0|                 0.0|                     0.0| normal|\n",
      "|       0|          tcp|  ftp_data|  SF|      334|        0|   0|             0|     0|  0|                0|        1|              0|         0|           0|       0|                 0|         0|               0|                0|            0|             0|    2|        2|        0.0|            0.0|        0.0|            0.0|          1.0|          0.0|               0.0|             2|                20|                   1.0|                   0.0|                        1.0|                        0.2|                 0.0|                     0.0|                 0.0|                     0.0|anomaly|\n",
      "|       0|          tcp|      name|  S0|        0|        0|   0|             0|     0|  0|                0|        0|              0|         0|           0|       0|                 0|         0|               0|                0|            0|             0|  233|        1|        1.0|            1.0|        0.0|            0.0|          0.0|         0.06|               0.0|           255|                 1|                   0.0|                  0.07|                        0.0|                        0.0|                 1.0|                     1.0|                 0.0|                     0.0|anomaly|\n",
      "|       0|          tcp|netbios_ns|  S0|        0|        0|   0|             0|     0|  0|                0|        0|              0|         0|           0|       0|                 0|         0|               0|                0|            0|             0|   96|       16|        1.0|            1.0|        0.0|            0.0|         0.17|         0.05|               0.0|           255|                 2|                  0.01|                  0.06|                        0.0|                        0.0|                 1.0|                     1.0|                 0.0|                     0.0|anomaly|\n",
      "|       0|          tcp|      http|  SF|      300|    13788|   0|             0|     0|  0|                0|        1|              0|         0|           0|       0|                 0|         0|               0|                0|            0|             0|    8|        9|        0.0|           0.11|        0.0|            0.0|          1.0|          0.0|              0.22|            91|               255|                   1.0|                   0.0|                       0.01|                       0.02|                 0.0|                     0.0|                 0.0|                     0.0| normal|\n",
      "|       0|         icmp|     eco_i|  SF|       18|        0|   0|             0|     0|  0|                0|        0|              0|         0|           0|       0|                 0|         0|               0|                0|            0|             0|    1|        1|        0.0|            0.0|        0.0|            0.0|          1.0|          0.0|               0.0|             1|                16|                   1.0|                   0.0|                        1.0|                        1.0|                 0.0|                     0.0|                 0.0|                     0.0|anomaly|\n",
      "|       0|          tcp|      http|  SF|      233|      616|   0|             0|     0|  0|                0|        1|              0|         0|           0|       0|                 0|         0|               0|                0|            0|             0|    3|        3|        0.0|            0.0|        0.0|            0.0|          1.0|          0.0|               0.0|            66|               255|                   1.0|                   0.0|                       0.02|                       0.03|                 0.0|                     0.0|                0.02|                     0.0| normal|\n",
      "|       0|          tcp|      http|  SF|      343|     1178|   0|             0|     0|  0|                0|        1|              0|         0|           0|       0|                 0|         0|               0|                0|            0|             0|    9|       10|        0.0|            0.0|        0.0|            0.0|          1.0|          0.0|               0.2|           157|               255|                   1.0|                   0.0|                       0.01|                       0.04|                 0.0|                     0.0|                 0.0|                     0.0| normal|\n",
      "+--------+-------------+----------+----+---------+---------+----+--------------+------+---+-----------------+---------+---------------+----------+------------+--------+------------------+----------+----------------+-----------------+-------------+--------------+-----+---------+-----------+---------------+-----------+---------------+-------------+-------------+------------------+--------------+------------------+----------------------+----------------------+---------------------------+---------------------------+--------------------+------------------------+--------------------+------------------------+-------+\n",
      "only showing top 20 rows\n",
      "\n"
     ]
    }
   ],
   "source": [
    "df.show()"
   ]
  },
  {
   "cell_type": "code",
   "execution_count": 7,
   "metadata": {},
   "outputs": [
    {
     "data": {
      "text/plain": [
       "['duration',\n",
       " 'protocol_type',\n",
       " 'service',\n",
       " 'flag',\n",
       " 'src_bytes',\n",
       " 'dst_bytes',\n",
       " 'land',\n",
       " 'wrong_fragment',\n",
       " 'urgent',\n",
       " 'hot',\n",
       " 'num_failed_logins',\n",
       " 'logged_in',\n",
       " 'num_compromised',\n",
       " 'root_shell',\n",
       " 'su_attempted',\n",
       " 'num_root',\n",
       " 'num_file_creations',\n",
       " 'num_shells',\n",
       " 'num_access_files',\n",
       " 'num_outbound_cmds',\n",
       " 'is_host_login',\n",
       " 'is_guest_login',\n",
       " 'count',\n",
       " 'srv_count',\n",
       " 'serror_rate',\n",
       " 'srv_serror_rate',\n",
       " 'rerror_rate',\n",
       " 'srv_rerror_rate',\n",
       " 'same_srv_rate',\n",
       " 'diff_srv_rate',\n",
       " 'srv_diff_host_rate',\n",
       " 'dst_host_count',\n",
       " 'dst_host_srv_count',\n",
       " 'dst_host_same_srv_rate',\n",
       " 'dst_host_diff_srv_rate',\n",
       " 'dst_host_same_src_port_rate',\n",
       " 'dst_host_srv_diff_host_rate',\n",
       " 'dst_host_serror_rate',\n",
       " 'dst_host_srv_serror_rate',\n",
       " 'dst_host_rerror_rate',\n",
       " 'dst_host_srv_rerror_rate',\n",
       " 'class']"
      ]
     },
     "execution_count": 7,
     "metadata": {},
     "output_type": "execute_result"
    }
   ],
   "source": [
    "df.columns"
   ]
  },
  {
   "cell_type": "markdown",
   "metadata": {},
   "source": [
    "### To understand what features we are playing with, description of all the features is given below:\n",
    "\n",
    "##### **Basic features which describe the connection without looking at the payload**\n",
    "- **duration** – Length (in seconds) of the connection.\n",
    "- **protocol_type** – Network protocol used (e.g., TCP, UDP, ICMP).\n",
    "- **service** – Destination service (e.g., http, telnet, ftp).\n",
    "- **flag** – Status flag of the connection (e.g., S0, SF, REJ).\n",
    "- **src_bytes** – Number of data bytes sent from source to destination.\n",
    "- **dst_bytes** – Number of data bytes sent from destination to source.\n",
    "- **land** – 1 if connection is from/to the same host/port; 0 otherwise.\n",
    "- **wrong_fragment** – Number of wrong fragments in the packet.\n",
    "- **urgent** – Number of urgent packets.\n",
    "##### **Content features which describe what is within the connection payload**\n",
    "- **hot** – Number of “hot” indicators (e.g., suspicious commands).\n",
    "- **num_failed_logins** – Number of failed login attempts.\n",
    "- **logged_in** – 1 if successfully logged in; 0 otherwise.\n",
    "- **num_compromised** – Number of compromised conditions.\n",
    "- **root_shell** – 1 if root shell is obtained; 0 otherwise.\n",
    "- **su_attempted** – 1 if “su root” command attempted; 0 otherwise.\n",
    "- **num_root** – Number of “root” accesses.\n",
    "- **num_file_creations** – Number of file creation operations.\n",
    "- **num_shells** – Number of shell prompts opened.\n",
    "- **num_access_files** – Number of attempts to access control files.\n",
    "- **num_outbound_cmds** – Number of outbound commands.\n",
    "- **is_host_login** – 1 if user is a “host login”; 0 otherwise.\n",
    "- **is_guest_login** – 1 if user is a “guest login”; 0 otherwise.\n",
    "##### **Traffic features based on the past 2 seconds wiindow for same host\n",
    "- **count** – Number of connections to the same host in the past 2 seconds.\n",
    "- **srv_count** – Number of connections to the same service.\n",
    "- **serror_rate** – % of connections with “SYN” errors.\n",
    "- **srv_serror_rate** – % of connections with “SYN” errors to the same service.\n",
    "- **rerror_rate** – % of connections with “REJ” errors.\n",
    "- **srv_rerror_rate** – % of REJ errors to the same service.\n",
    "- **same_srv_rate** – % of connections to the same service.\n",
    "- **diff_srv_rate** – % of connections to different services.\n",
    "- **srv_diff_host_rate** – % of connections to the same service but different host.\n",
    "- **dst_host_count** – Number of connections to the destination host.\n",
    "- **dst_host_srv_count** – Connections to the destination host using the same service.\n",
    "- **dst_host_same_srv_rate** – % of same-service connections among dst_host_count.\n",
    "- **dst_host_diff_srv_rate** – % of different-service connections.\n",
    "- **dst_host_same_src_port_rate** – % of connections from same source port.\n",
    "- **dst_host_srv_diff_host_rate** – % of same-service connections to different hosts.\n",
    "- **dst_host_serror_rate** – % of connections with SYN errors.\n",
    "- **dst_host_srv_serror_rate** – % of same-service SYN errors.\n",
    "- **dst_host_rerror_rate** – % of connections with REJ errors.\n",
    "- **dst_host_srv_rerror_rate** – % of same-service REJ errors.\n",
    "##### **Label**\n",
    "- **class** - either \"normal\" or \"anomally\""
   ]
  },
  {
   "cell_type": "markdown",
   "metadata": {},
   "source": [
    "#### Let's see if the data has duplicates and/or missing values"
   ]
  },
  {
   "cell_type": "code",
   "execution_count": 27,
   "metadata": {},
   "outputs": [
    {
     "name": "stdout",
     "output_type": "stream",
     "text": [
      "No missing values in the dataset\n",
      "No duplicates in the dataset\n"
     ]
    }
   ],
   "source": [
    "if df.count() == df.na.drop(how=\"any\").count():\n",
    "    print(\"No missing values in the dataset\")\n",
    "else:\n",
    "    print(\"Missing values, need to treat the dataset\")\n",
    "\n",
    "if df.count() == df.dropDuplicates().count():\n",
    "    print(\"No duplicates in the dataset\")\n",
    "else:\n",
    "    print(\"Duplicate values, need to treat the dataset\")"
   ]
  },
  {
   "cell_type": "markdown",
   "metadata": {},
   "source": [
    "Lets check the data distribution for all the columns"
   ]
  },
  {
   "cell_type": "code",
   "execution_count": 29,
   "metadata": {},
   "outputs": [
    {
     "name": "stdout",
     "output_type": "stream",
     "text": [
      "+-------+------------------+-------------+-------+-----+------------------+------------------+--------------------+--------------------+--------------------+-------------------+--------------------+-------------------+-------------------+--------------------+--------------------+------------------+--------------------+--------------------+--------------------+-----------------+-------------+--------------------+------------------+-----------------+-------------------+-------------------+-------------------+-------------------+------------------+-------------------+-------------------+------------------+------------------+----------------------+----------------------+---------------------------+---------------------------+--------------------+------------------------+--------------------+------------------------+-------+\n",
      "|summary|          duration|protocol_type|service| flag|         src_bytes|         dst_bytes|                land|      wrong_fragment|              urgent|                hot|   num_failed_logins|          logged_in|    num_compromised|          root_shell|        su_attempted|          num_root|  num_file_creations|          num_shells|    num_access_files|num_outbound_cmds|is_host_login|      is_guest_login|             count|        srv_count|        serror_rate|    srv_serror_rate|        rerror_rate|    srv_rerror_rate|     same_srv_rate|      diff_srv_rate| srv_diff_host_rate|    dst_host_count|dst_host_srv_count|dst_host_same_srv_rate|dst_host_diff_srv_rate|dst_host_same_src_port_rate|dst_host_srv_diff_host_rate|dst_host_serror_rate|dst_host_srv_serror_rate|dst_host_rerror_rate|dst_host_srv_rerror_rate|  class|\n",
      "+-------+------------------+-------------+-------+-----+------------------+------------------+--------------------+--------------------+--------------------+-------------------+--------------------+-------------------+-------------------+--------------------+--------------------+------------------+--------------------+--------------------+--------------------+-----------------+-------------+--------------------+------------------+-----------------+-------------------+-------------------+-------------------+-------------------+------------------+-------------------+-------------------+------------------+------------------+----------------------+----------------------+---------------------------+---------------------------+--------------------+------------------------+--------------------+------------------------+-------+\n",
      "|  count|             25192|        25192|  25192|25192|             25192|             25192|               25192|               25192|               25192|              25192|               25192|              25192|              25192|               25192|               25192|             25192|               25192|               25192|               25192|            25192|        25192|               25192|             25192|            25192|              25192|              25192|              25192|              25192|             25192|              25192|              25192|             25192|             25192|                 25192|                 25192|                      25192|                      25192|               25192|                   25192|               25192|                   25192|  25192|\n",
      "|   mean|305.05410447761193|         NULL|   NULL| NULL|24330.628215306446|3491.8471737059385|7.939028262940616E-5|0.023737694506192442|3.969514131470308E-5|0.19803906001905366|0.001190854239441...| 0.3947681803747221|0.22785011114639567|0.001548110511273...|0.001349634804699...|0.2498412194347412|0.014726897427754843|3.572562718323277E-4|0.004326770403302636|              0.0|          0.0|0.009129882502381708| 84.59117973959987|27.69875357256272| 0.2863377262623057| 0.2837623054938076| 0.1186301206732296|0.12026040012702444|0.6605589075897269|0.06236305176245632|0.09593085106383017|182.53207367418227|115.06303588440775|     0.519790806605293|   0.08253850428706398|        0.14745276278184874|       0.031844236265478706|  0.2858002540489096|      0.2798463798031175| 0.11780009526833982|     0.11876945061924482|   NULL|\n",
      "| stddev| 2686.555640061755|         NULL|   NULL| NULL| 2410805.402027761| 88830.71832952353|0.008909945628106706| 0.26022077717098974|0.006300408027636234| 2.1542017672082787|0.045418180259924744|0.48881054481942554| 10.417352037211344| 0.03931634806138924|0.048785053433153605| 11.50084179738788|  0.5296023001894304|0.018898222578410288| 0.09852397677562588|              0.0|          0.0| 0.09511512427225721|114.67345089343632|72.46824199226845|0.44731232268498944|0.44759890774142674|0.31874547077645476| 0.3223353518727588|0.4396373803297487|0.17854999615939898|0.25658284688538696| 98.99389515528158|110.64685035369354|   0.44894391743819656|   0.18719111353591167|        0.30836659108783937|        0.11057496885808385|  0.4453164751115453|      0.4460753261474882| 0.30586924566877277|     0.31733346824600817|   NULL|\n",
      "|    min|                 0|         icmp|    IRC|  OTH|                 0|                 0|                   0|                   0|                   0|                  0|                   0|                  0|                  0|                   0|                   0|                 0|                   0|                   0|                   0|                0|            0|                   0|                 1|                1|                0.0|                0.0|                0.0|                0.0|               0.0|                0.0|                0.0|                 0|                 0|                   0.0|                   0.0|                        0.0|                        0.0|                 0.0|                     0.0|                 0.0|                     0.0|anomaly|\n",
      "|    max|             42862|          udp|  whois|   SH|         381709090|           5151385|                   1|                   3|                   1|                 77|                   4|                  1|                884|                   1|                   2|               975|                  40|                   1|                   8|                0|            0|                   1|               511|              511|                1.0|                1.0|                1.0|                1.0|               1.0|                1.0|                1.0|               255|               255|                   1.0|                   1.0|                        1.0|                        1.0|                 1.0|                     1.0|                 1.0|                     1.0| normal|\n",
      "+-------+------------------+-------------+-------+-----+------------------+------------------+--------------------+--------------------+--------------------+-------------------+--------------------+-------------------+-------------------+--------------------+--------------------+------------------+--------------------+--------------------+--------------------+-----------------+-------------+--------------------+------------------+-----------------+-------------------+-------------------+-------------------+-------------------+------------------+-------------------+-------------------+------------------+------------------+----------------------+----------------------+---------------------------+---------------------------+--------------------+------------------------+--------------------+------------------------+-------+\n",
      "\n"
     ]
    }
   ],
   "source": [
    "df.describe().show()"
   ]
  },
  {
   "cell_type": "markdown",
   "metadata": {},
   "source": [
    "You can notice that some of the columns min, max, average and median is the same value, hence they don't have any value variation. Dropping these columns will help make our training more efficient"
   ]
  },
  {
   "cell_type": "code",
   "execution_count": 32,
   "metadata": {},
   "outputs": [
    {
     "ename": "PySparkTypeError",
     "evalue": "[NOT_COLUMN_OR_STR] Argument `col` should be a Column or str, got list.",
     "output_type": "error",
     "traceback": [
      "\u001b[31m---------------------------------------------------------------------------\u001b[39m",
      "\u001b[31mPySparkTypeError\u001b[39m                          Traceback (most recent call last)",
      "\u001b[36mCell\u001b[39m\u001b[36m \u001b[39m\u001b[32mIn[32]\u001b[39m\u001b[32m, line 1\u001b[39m\n\u001b[32m----> \u001b[39m\u001b[32m1\u001b[39m \u001b[43mdf\u001b[49m\u001b[43m.\u001b[49m\u001b[43mdrop\u001b[49m\u001b[43m(\u001b[49m\u001b[43m[\u001b[49m\u001b[33;43m\"\u001b[39;49m\u001b[33;43mnum_outbound_cmds\u001b[39;49m\u001b[33;43m\"\u001b[39;49m\u001b[43m,\u001b[49m\u001b[43m \u001b[49m\u001b[33;43m\"\u001b[39;49m\u001b[33;43mis_host_login\u001b[39;49m\u001b[33;43m\"\u001b[39;49m\u001b[43m]\u001b[49m\u001b[43m)\u001b[49m\n",
      "\u001b[36mFile \u001b[39m\u001b[32mc:\\Users\\m\\Documents\\GitHub\\Finance-Fraud-Detection\\.venv\\Lib\\site-packages\\pyspark\\sql\\dataframe.py:5439\u001b[39m, in \u001b[36mDataFrame.drop\u001b[39m\u001b[34m(self, *cols)\u001b[39m\n\u001b[32m   5437\u001b[39m         java_columns.append(c._jc)\n\u001b[32m   5438\u001b[39m     \u001b[38;5;28;01melse\u001b[39;00m:\n\u001b[32m-> \u001b[39m\u001b[32m5439\u001b[39m         \u001b[38;5;28;01mraise\u001b[39;00m PySparkTypeError(\n\u001b[32m   5440\u001b[39m             error_class=\u001b[33m\"\u001b[39m\u001b[33mNOT_COLUMN_OR_STR\u001b[39m\u001b[33m\"\u001b[39m,\n\u001b[32m   5441\u001b[39m             message_parameters={\u001b[33m\"\u001b[39m\u001b[33marg_name\u001b[39m\u001b[33m\"\u001b[39m: \u001b[33m\"\u001b[39m\u001b[33mcol\u001b[39m\u001b[33m\"\u001b[39m, \u001b[33m\"\u001b[39m\u001b[33marg_type\u001b[39m\u001b[33m\"\u001b[39m: \u001b[38;5;28mtype\u001b[39m(c).\u001b[34m__name__\u001b[39m},\n\u001b[32m   5442\u001b[39m         )\n\u001b[32m   5444\u001b[39m jdf = \u001b[38;5;28mself\u001b[39m._jdf\n\u001b[32m   5445\u001b[39m \u001b[38;5;28;01mif\u001b[39;00m \u001b[38;5;28mlen\u001b[39m(java_columns) > \u001b[32m0\u001b[39m:\n",
      "\u001b[31mPySparkTypeError\u001b[39m: [NOT_COLUMN_OR_STR] Argument `col` should be a Column or str, got list."
     ]
    }
   ],
   "source": [
    "df.drop([\"num_outbound_cmds\", \"is_host_login\"])"
   ]
  },
  {
   "cell_type": "markdown",
   "metadata": {},
   "source": [
    "Lets check if the datatypes are assigned accurately or if they need ot be changed"
   ]
  },
  {
   "cell_type": "code",
   "execution_count": 35,
   "metadata": {},
   "outputs": [
    {
     "name": "stdout",
     "output_type": "stream",
     "text": [
      "+--------+-------------+----------+----+---------+---------+----+--------------+------+---+-----------------+---------+---------------+----------+------------+--------+------------------+----------+----------------+-----------------+-------------+--------------+-----+---------+-----------+---------------+-----------+---------------+-------------+-------------+------------------+--------------+------------------+----------------------+----------------------+---------------------------+---------------------------+--------------------+------------------------+--------------------+------------------------+-------+\n",
      "|duration|protocol_type|   service|flag|src_bytes|dst_bytes|land|wrong_fragment|urgent|hot|num_failed_logins|logged_in|num_compromised|root_shell|su_attempted|num_root|num_file_creations|num_shells|num_access_files|num_outbound_cmds|is_host_login|is_guest_login|count|srv_count|serror_rate|srv_serror_rate|rerror_rate|srv_rerror_rate|same_srv_rate|diff_srv_rate|srv_diff_host_rate|dst_host_count|dst_host_srv_count|dst_host_same_srv_rate|dst_host_diff_srv_rate|dst_host_same_src_port_rate|dst_host_srv_diff_host_rate|dst_host_serror_rate|dst_host_srv_serror_rate|dst_host_rerror_rate|dst_host_srv_rerror_rate|  class|\n",
      "+--------+-------------+----------+----+---------+---------+----+--------------+------+---+-----------------+---------+---------------+----------+------------+--------+------------------+----------+----------------+-----------------+-------------+--------------+-----+---------+-----------+---------------+-----------+---------------+-------------+-------------+------------------+--------------+------------------+----------------------+----------------------+---------------------------+---------------------------+--------------------+------------------------+--------------------+------------------------+-------+\n",
      "|       0|          tcp|  ftp_data|  SF|      491|        0|   0|             0|     0|  0|                0|        0|              0|         0|           0|       0|                 0|         0|               0|                0|            0|             0|    2|        2|        0.0|            0.0|        0.0|            0.0|          1.0|          0.0|               0.0|           150|                25|                  0.17|                  0.03|                       0.17|                        0.0|                 0.0|                     0.0|                0.05|                     0.0| normal|\n",
      "|       0|          udp|     other|  SF|      146|        0|   0|             0|     0|  0|                0|        0|              0|         0|           0|       0|                 0|         0|               0|                0|            0|             0|   13|        1|        0.0|            0.0|        0.0|            0.0|         0.08|         0.15|               0.0|           255|                 1|                   0.0|                   0.6|                       0.88|                        0.0|                 0.0|                     0.0|                 0.0|                     0.0| normal|\n",
      "|       0|          tcp|   private|  S0|        0|        0|   0|             0|     0|  0|                0|        0|              0|         0|           0|       0|                 0|         0|               0|                0|            0|             0|  123|        6|        1.0|            1.0|        0.0|            0.0|         0.05|         0.07|               0.0|           255|                26|                   0.1|                  0.05|                        0.0|                        0.0|                 1.0|                     1.0|                 0.0|                     0.0|anomaly|\n",
      "|       0|          tcp|      http|  SF|      232|     8153|   0|             0|     0|  0|                0|        1|              0|         0|           0|       0|                 0|         0|               0|                0|            0|             0|    5|        5|        0.2|            0.2|        0.0|            0.0|          1.0|          0.0|               0.0|            30|               255|                   1.0|                   0.0|                       0.03|                       0.04|                0.03|                    0.01|                 0.0|                    0.01| normal|\n",
      "|       0|          tcp|      http|  SF|      199|      420|   0|             0|     0|  0|                0|        1|              0|         0|           0|       0|                 0|         0|               0|                0|            0|             0|   30|       32|        0.0|            0.0|        0.0|            0.0|          1.0|          0.0|              0.09|           255|               255|                   1.0|                   0.0|                        0.0|                        0.0|                 0.0|                     0.0|                 0.0|                     0.0| normal|\n",
      "|       0|          tcp|   private| REJ|        0|        0|   0|             0|     0|  0|                0|        0|              0|         0|           0|       0|                 0|         0|               0|                0|            0|             0|  121|       19|        0.0|            0.0|        1.0|            1.0|         0.16|         0.06|               0.0|           255|                19|                  0.07|                  0.07|                        0.0|                        0.0|                 0.0|                     0.0|                 1.0|                     1.0|anomaly|\n",
      "|       0|          tcp|   private|  S0|        0|        0|   0|             0|     0|  0|                0|        0|              0|         0|           0|       0|                 0|         0|               0|                0|            0|             0|  166|        9|        1.0|            1.0|        0.0|            0.0|         0.05|         0.06|               0.0|           255|                 9|                  0.04|                  0.05|                        0.0|                        0.0|                 1.0|                     1.0|                 0.0|                     0.0|anomaly|\n",
      "|       0|          tcp|   private|  S0|        0|        0|   0|             0|     0|  0|                0|        0|              0|         0|           0|       0|                 0|         0|               0|                0|            0|             0|  117|       16|        1.0|            1.0|        0.0|            0.0|         0.14|         0.06|               0.0|           255|                15|                  0.06|                  0.07|                        0.0|                        0.0|                 1.0|                     1.0|                 0.0|                     0.0|anomaly|\n",
      "|       0|          tcp|remote_job|  S0|        0|        0|   0|             0|     0|  0|                0|        0|              0|         0|           0|       0|                 0|         0|               0|                0|            0|             0|  270|       23|        1.0|            1.0|        0.0|            0.0|         0.09|         0.05|               0.0|           255|                23|                  0.09|                  0.05|                        0.0|                        0.0|                 1.0|                     1.0|                 0.0|                     0.0|anomaly|\n",
      "|       0|          tcp|   private|  S0|        0|        0|   0|             0|     0|  0|                0|        0|              0|         0|           0|       0|                 0|         0|               0|                0|            0|             0|  133|        8|        1.0|            1.0|        0.0|            0.0|         0.06|         0.06|               0.0|           255|                13|                  0.05|                  0.06|                        0.0|                        0.0|                 1.0|                     1.0|                 0.0|                     0.0|anomaly|\n",
      "|       0|          tcp|   private| REJ|        0|        0|   0|             0|     0|  0|                0|        0|              0|         0|           0|       0|                 0|         0|               0|                0|            0|             0|  205|       12|        0.0|            0.0|        1.0|            1.0|         0.06|         0.06|               0.0|           255|                12|                  0.05|                  0.07|                        0.0|                        0.0|                 0.0|                     0.0|                 1.0|                     1.0|anomaly|\n",
      "|       0|          tcp|   private|  S0|        0|        0|   0|             0|     0|  0|                0|        0|              0|         0|           0|       0|                 0|         0|               0|                0|            0|             0|  199|        3|        1.0|            1.0|        0.0|            0.0|         0.02|         0.06|               0.0|           255|                13|                  0.05|                  0.07|                        0.0|                        0.0|                 1.0|                     1.0|                 0.0|                     0.0|anomaly|\n",
      "|       0|          tcp|      http|  SF|      287|     2251|   0|             0|     0|  0|                0|        1|              0|         0|           0|       0|                 0|         0|               0|                0|            0|             0|    3|        7|        0.0|            0.0|        0.0|            0.0|          1.0|          0.0|              0.43|             8|               219|                   1.0|                   0.0|                       0.12|                       0.03|                 0.0|                     0.0|                 0.0|                     0.0| normal|\n",
      "|       0|          tcp|  ftp_data|  SF|      334|        0|   0|             0|     0|  0|                0|        1|              0|         0|           0|       0|                 0|         0|               0|                0|            0|             0|    2|        2|        0.0|            0.0|        0.0|            0.0|          1.0|          0.0|               0.0|             2|                20|                   1.0|                   0.0|                        1.0|                        0.2|                 0.0|                     0.0|                 0.0|                     0.0|anomaly|\n",
      "|       0|          tcp|      name|  S0|        0|        0|   0|             0|     0|  0|                0|        0|              0|         0|           0|       0|                 0|         0|               0|                0|            0|             0|  233|        1|        1.0|            1.0|        0.0|            0.0|          0.0|         0.06|               0.0|           255|                 1|                   0.0|                  0.07|                        0.0|                        0.0|                 1.0|                     1.0|                 0.0|                     0.0|anomaly|\n",
      "|       0|          tcp|netbios_ns|  S0|        0|        0|   0|             0|     0|  0|                0|        0|              0|         0|           0|       0|                 0|         0|               0|                0|            0|             0|   96|       16|        1.0|            1.0|        0.0|            0.0|         0.17|         0.05|               0.0|           255|                 2|                  0.01|                  0.06|                        0.0|                        0.0|                 1.0|                     1.0|                 0.0|                     0.0|anomaly|\n",
      "|       0|          tcp|      http|  SF|      300|    13788|   0|             0|     0|  0|                0|        1|              0|         0|           0|       0|                 0|         0|               0|                0|            0|             0|    8|        9|        0.0|           0.11|        0.0|            0.0|          1.0|          0.0|              0.22|            91|               255|                   1.0|                   0.0|                       0.01|                       0.02|                 0.0|                     0.0|                 0.0|                     0.0| normal|\n",
      "|       0|         icmp|     eco_i|  SF|       18|        0|   0|             0|     0|  0|                0|        0|              0|         0|           0|       0|                 0|         0|               0|                0|            0|             0|    1|        1|        0.0|            0.0|        0.0|            0.0|          1.0|          0.0|               0.0|             1|                16|                   1.0|                   0.0|                        1.0|                        1.0|                 0.0|                     0.0|                 0.0|                     0.0|anomaly|\n",
      "|       0|          tcp|      http|  SF|      233|      616|   0|             0|     0|  0|                0|        1|              0|         0|           0|       0|                 0|         0|               0|                0|            0|             0|    3|        3|        0.0|            0.0|        0.0|            0.0|          1.0|          0.0|               0.0|            66|               255|                   1.0|                   0.0|                       0.02|                       0.03|                 0.0|                     0.0|                0.02|                     0.0| normal|\n",
      "|       0|          tcp|      http|  SF|      343|     1178|   0|             0|     0|  0|                0|        1|              0|         0|           0|       0|                 0|         0|               0|                0|            0|             0|    9|       10|        0.0|            0.0|        0.0|            0.0|          1.0|          0.0|               0.2|           157|               255|                   1.0|                   0.0|                       0.01|                       0.04|                 0.0|                     0.0|                 0.0|                     0.0| normal|\n",
      "+--------+-------------+----------+----+---------+---------+----+--------------+------+---+-----------------+---------+---------------+----------+------------+--------+------------------+----------+----------------+-----------------+-------------+--------------+-----+---------+-----------+---------------+-----------+---------------+-------------+-------------+------------------+--------------+------------------+----------------------+----------------------+---------------------------+---------------------------+--------------------+------------------------+--------------------+------------------------+-------+\n",
      "only showing top 20 rows\n",
      "\n"
     ]
    }
   ],
   "source": [
    "df.show()"
   ]
  },
  {
   "cell_type": "code",
   "execution_count": 33,
   "metadata": {},
   "outputs": [
    {
     "name": "stdout",
     "output_type": "stream",
     "text": [
      "root\n",
      " |-- duration: integer (nullable = true)\n",
      " |-- protocol_type: string (nullable = true)\n",
      " |-- service: string (nullable = true)\n",
      " |-- flag: string (nullable = true)\n",
      " |-- src_bytes: integer (nullable = true)\n",
      " |-- dst_bytes: integer (nullable = true)\n",
      " |-- land: integer (nullable = true)\n",
      " |-- wrong_fragment: integer (nullable = true)\n",
      " |-- urgent: integer (nullable = true)\n",
      " |-- hot: integer (nullable = true)\n",
      " |-- num_failed_logins: integer (nullable = true)\n",
      " |-- logged_in: integer (nullable = true)\n",
      " |-- num_compromised: integer (nullable = true)\n",
      " |-- root_shell: integer (nullable = true)\n",
      " |-- su_attempted: integer (nullable = true)\n",
      " |-- num_root: integer (nullable = true)\n",
      " |-- num_file_creations: integer (nullable = true)\n",
      " |-- num_shells: integer (nullable = true)\n",
      " |-- num_access_files: integer (nullable = true)\n",
      " |-- num_outbound_cmds: integer (nullable = true)\n",
      " |-- is_host_login: integer (nullable = true)\n",
      " |-- is_guest_login: integer (nullable = true)\n",
      " |-- count: integer (nullable = true)\n",
      " |-- srv_count: integer (nullable = true)\n",
      " |-- serror_rate: double (nullable = true)\n",
      " |-- srv_serror_rate: double (nullable = true)\n",
      " |-- rerror_rate: double (nullable = true)\n",
      " |-- srv_rerror_rate: double (nullable = true)\n",
      " |-- same_srv_rate: double (nullable = true)\n",
      " |-- diff_srv_rate: double (nullable = true)\n",
      " |-- srv_diff_host_rate: double (nullable = true)\n",
      " |-- dst_host_count: integer (nullable = true)\n",
      " |-- dst_host_srv_count: integer (nullable = true)\n",
      " |-- dst_host_same_srv_rate: double (nullable = true)\n",
      " |-- dst_host_diff_srv_rate: double (nullable = true)\n",
      " |-- dst_host_same_src_port_rate: double (nullable = true)\n",
      " |-- dst_host_srv_diff_host_rate: double (nullable = true)\n",
      " |-- dst_host_serror_rate: double (nullable = true)\n",
      " |-- dst_host_srv_serror_rate: double (nullable = true)\n",
      " |-- dst_host_rerror_rate: double (nullable = true)\n",
      " |-- dst_host_srv_rerror_rate: double (nullable = true)\n",
      " |-- class: string (nullable = true)\n",
      "\n"
     ]
    }
   ],
   "source": [
    "df.printSchema()"
   ]
  },
  {
   "cell_type": "code",
   "execution_count": null,
   "metadata": {},
   "outputs": [],
   "source": []
  }
 ],
 "metadata": {
  "kernelspec": {
   "display_name": ".venv",
   "language": "python",
   "name": "python3"
  },
  "language_info": {
   "codemirror_mode": {
    "name": "ipython",
    "version": 3
   },
   "file_extension": ".py",
   "mimetype": "text/x-python",
   "name": "python",
   "nbconvert_exporter": "python",
   "pygments_lexer": "ipython3",
   "version": "3.13.2"
  }
 },
 "nbformat": 4,
 "nbformat_minor": 2
}

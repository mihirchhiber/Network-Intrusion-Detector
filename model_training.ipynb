{
  "cells": [
    {
      "cell_type": "markdown",
      "metadata": {
        "id": "FVOgAP_Lee6r"
      },
      "source": [
        "### Run the code below if pyspark operations throw random errors"
      ]
    },
    {
      "cell_type": "code",
      "execution_count": null,
      "metadata": {
        "id": "KjF4fpgRee6t"
      },
      "outputs": [],
      "source": [
        "import shutil\n",
        "shutil.rmtree(\"C:/Users/m/AppData/Local/Temp\", ignore_errors=True)"
      ]
    },
    {
      "cell_type": "markdown",
      "metadata": {
        "id": "EeaqNRaHee6u"
      },
      "source": [
        "Importing libraries, starting spark session and taking a look at the data"
      ]
    },
    {
      "cell_type": "code",
      "execution_count": null,
      "metadata": {
        "id": "mEOnSomYee6u"
      },
      "outputs": [],
      "source": [
        "from pyspark.sql import SparkSession"
      ]
    },
    {
      "cell_type": "code",
      "execution_count": null,
      "metadata": {
        "colab": {
          "base_uri": "https://localhost:8080/"
        },
        "id": "skEnt42gee6v",
        "outputId": "2bb4815f-baff-4585-a0f2-bbc7cf357e9a"
      },
      "outputs": [
        {
          "name": "stdout",
          "output_type": "stream",
          "text": [
            "Previous SparkSession stopped.\n"
          ]
        }
      ],
      "source": [
        "try:\n",
        "    existing_spark = SparkSession.getActiveSession()\n",
        "    if existing_spark:\n",
        "        existing_spark.stop()\n",
        "        print(\"Previous SparkSession stopped.\")\n",
        "except Exception as e:\n",
        "    print(f\"Could not get and stop the active SparkSession: {e}\")\n",
        "\n",
        "spark = SparkSession.builder.appName(\"Finance_Model_Training\") \\\n",
        "    .master(\"spark://host.docker.internal:7077\") \\\n",
        "    .config(\"spark.executor.memory\", \"8g\") \\\n",
        "    .config(\"spark.executor.cores\", \"4\") \\\n",
        "    .config(\"spark.driver.memory\", \"8g\") \\\n",
        "    .config(\"spark.default.parallelism\", \"8\") \\\n",
        "    .getOrCreate().getOrCreate()"
      ]
    },
    {
      "cell_type": "markdown",
      "metadata": {},
      "source": [
        "Let's read the data and split it into train and test to do performance comparison later"
      ]
    },
    {
      "cell_type": "code",
      "execution_count": 28,
      "metadata": {
        "id": "aGlgS54Jee6w"
      },
      "outputs": [],
      "source": [
        "df = spark.read.csv(\"/content/Train_data.csv\", header=True, inferSchema=True)\n",
        "train_df, test_df = df.randomSplit(weights=[0.8,0.2], seed=42)"
      ]
    },
    {
      "cell_type": "code",
      "execution_count": 29,
      "metadata": {
        "colab": {
          "base_uri": "https://localhost:8080/"
        },
        "id": "abyKfRgpee6w",
        "outputId": "1e4e67d5-2e71-4c8e-b424-a820b689886a"
      },
      "outputs": [
        {
          "name": "stdout",
          "output_type": "stream",
          "text": [
            "+--------+-------------+-------+----+---------+---------+----+--------------+------+---+-----------------+---------+---------------+----------+------------+--------+------------------+----------+----------------+-----------------+-------------+--------------+-----+---------+-----------+---------------+-----------+---------------+-------------+-------------+------------------+--------------+------------------+----------------------+----------------------+---------------------------+---------------------------+--------------------+------------------------+--------------------+------------------------+-------+\n",
            "|duration|protocol_type|service|flag|src_bytes|dst_bytes|land|wrong_fragment|urgent|hot|num_failed_logins|logged_in|num_compromised|root_shell|su_attempted|num_root|num_file_creations|num_shells|num_access_files|num_outbound_cmds|is_host_login|is_guest_login|count|srv_count|serror_rate|srv_serror_rate|rerror_rate|srv_rerror_rate|same_srv_rate|diff_srv_rate|srv_diff_host_rate|dst_host_count|dst_host_srv_count|dst_host_same_srv_rate|dst_host_diff_srv_rate|dst_host_same_src_port_rate|dst_host_srv_diff_host_rate|dst_host_serror_rate|dst_host_srv_serror_rate|dst_host_rerror_rate|dst_host_srv_rerror_rate|  class|\n",
            "+--------+-------------+-------+----+---------+---------+----+--------------+------+---+-----------------+---------+---------------+----------+------------+--------+------------------+----------+----------------+-----------------+-------------+--------------+-----+---------+-----------+---------------+-----------+---------------+-------------+-------------+------------------+--------------+------------------+----------------------+----------------------+---------------------------+---------------------------+--------------------+------------------------+--------------------+------------------------+-------+\n",
            "|       0|         icmp|  eco_i|  SF|        8|        0|   0|             0|     0|  0|                0|        0|              0|         0|           0|       0|                 0|         0|               0|                0|            0|             0|    1|        1|        0.0|            0.0|        0.0|            0.0|          1.0|          0.0|               0.0|             1|                 1|                   1.0|                   0.0|                        1.0|                        0.0|                 0.0|                     0.0|                 0.0|                     0.0|anomaly|\n",
            "|       0|         icmp|  eco_i|  SF|        8|        0|   0|             0|     0|  0|                0|        0|              0|         0|           0|       0|                 0|         0|               0|                0|            0|             0|    1|        1|        0.0|            0.0|        0.0|            0.0|          1.0|          0.0|               0.0|             1|               131|                   1.0|                   0.0|                        1.0|                        0.5|                 0.0|                     0.0|                 0.0|                     0.0|anomaly|\n",
            "|       0|         icmp|  eco_i|  SF|        8|        0|   0|             0|     0|  0|                0|        0|              0|         0|           0|       0|                 0|         0|               0|                0|            0|             0|    1|        1|        0.0|            0.0|        0.0|            0.0|          1.0|          0.0|               0.0|             1|               255|                   1.0|                   0.0|                        1.0|                        0.5|                 0.0|                     0.0|                 0.0|                     0.0|anomaly|\n",
            "|       0|         icmp|  eco_i|  SF|        8|        0|   0|             0|     0|  0|                0|        0|              0|         0|           0|       0|                 0|         0|               0|                0|            0|             0|    1|        1|        0.0|            0.0|        0.0|            0.0|          1.0|          0.0|               0.0|             2|                 2|                   1.0|                   0.0|                        1.0|                        0.0|                 0.0|                     0.0|                 0.0|                     0.0|anomaly|\n",
            "|       0|         icmp|  eco_i|  SF|        8|        0|   0|             0|     0|  0|                0|        0|              0|         0|           0|       0|                 0|         0|               0|                0|            0|             0|    1|        1|        0.0|            0.0|        0.0|            0.0|          1.0|          0.0|               0.0|             2|                12|                   1.0|                   0.0|                        1.0|                        0.5|                 0.0|                     0.0|                 0.0|                     0.0|anomaly|\n",
            "|       0|         icmp|  eco_i|  SF|        8|        0|   0|             0|     0|  0|                0|        0|              0|         0|           0|       0|                 0|         0|               0|                0|            0|             0|    1|        1|        0.0|            0.0|        0.0|            0.0|          1.0|          0.0|               0.0|             2|                38|                   1.0|                   0.0|                        1.0|                        0.5|                 0.0|                     0.0|                 0.0|                     0.0|anomaly|\n",
            "|       0|         icmp|  eco_i|  SF|        8|        0|   0|             0|     0|  0|                0|        0|              0|         0|           0|       0|                 0|         0|               0|                0|            0|             0|    1|        1|        0.0|            0.0|        0.0|            0.0|          1.0|          0.0|               0.0|             2|               118|                   1.0|                   0.0|                        1.0|                       0.25|                 0.0|                     0.0|                 0.0|                     0.0|anomaly|\n",
            "|       0|         icmp|  eco_i|  SF|        8|        0|   0|             0|     0|  0|                0|        0|              0|         0|           0|       0|                 0|         0|               0|                0|            0|             0|    1|        1|        0.0|            0.0|        0.0|            0.0|          1.0|          0.0|               0.0|             2|               244|                   1.0|                   0.0|                        1.0|                        0.5|                 0.0|                     0.0|                 0.0|                     0.0|anomaly|\n",
            "|       0|         icmp|  eco_i|  SF|        8|        0|   0|             0|     0|  0|                0|        0|              0|         0|           0|       0|                 0|         0|               0|                0|            0|             0|    1|        1|        0.0|            0.0|        0.0|            0.0|          1.0|          0.0|               0.0|             2|               255|                   1.0|                   0.0|                        1.0|                        0.5|                 0.0|                     0.0|                 0.0|                     0.0|anomaly|\n",
            "|       0|         icmp|  eco_i|  SF|        8|        0|   0|             0|     0|  0|                0|        0|              0|         0|           0|       0|                 0|         0|               0|                0|            0|             0|    1|        1|        0.0|            0.0|        0.0|            0.0|          1.0|          0.0|               0.0|             4|                 2|                   0.5|                  0.75|                        0.5|                        0.0|                 0.0|                     0.0|                 0.0|                     0.0|anomaly|\n",
            "|       0|         icmp|  eco_i|  SF|        8|        0|   0|             0|     0|  0|                0|        0|              0|         0|           0|       0|                 0|         0|               0|                0|            0|             0|    1|        1|        0.0|            0.0|        0.0|            0.0|          1.0|          0.0|               0.0|             7|                 5|                  0.71|                  0.43|                       0.71|                        0.0|                 0.0|                     0.0|                 0.0|                     0.0|anomaly|\n",
            "|       0|         icmp|  eco_i|  SF|        8|        0|   0|             0|     0|  0|                0|        0|              0|         0|           0|       0|                 0|         0|               0|                0|            0|             0|    1|        2|        0.0|            0.0|        0.0|            0.0|          1.0|          0.0|               1.0|             1|                17|                   1.0|                   0.0|                        1.0|                       0.53|                 0.0|                     0.0|                 0.0|                     0.0|anomaly|\n",
            "|       0|         icmp|  eco_i|  SF|        8|        0|   0|             0|     0|  0|                0|        0|              0|         0|           0|       0|                 0|         0|               0|                0|            0|             0|    1|        2|        0.0|            0.0|        0.0|            0.0|          1.0|          0.0|               1.0|             1|                43|                   1.0|                   0.0|                        1.0|                       0.51|                 0.0|                     0.0|                 0.0|                     0.0|anomaly|\n",
            "|       0|         icmp|  eco_i|  SF|        8|        0|   0|             0|     0|  0|                0|        0|              0|         0|           0|       0|                 0|         0|               0|                0|            0|             0|    1|        2|        0.0|            0.0|        0.0|            0.0|          1.0|          0.0|               1.0|             1|                45|                   1.0|                   0.0|                        1.0|                       0.27|                 0.0|                     0.0|                 0.0|                     0.0|anomaly|\n",
            "|       0|         icmp|  eco_i|  SF|        8|        0|   0|             0|     0|  0|                0|        0|              0|         0|           0|       0|                 0|         0|               0|                0|            0|             0|    1|        2|        0.0|            0.0|        0.0|            0.0|          1.0|          0.0|               1.0|             1|                62|                   1.0|                   0.0|                        1.0|                       0.52|                 0.0|                     0.0|                 0.0|                     0.0|anomaly|\n",
            "|       0|         icmp|  eco_i|  SF|        8|        0|   0|             0|     0|  0|                0|        0|              0|         0|           0|       0|                 0|         0|               0|                0|            0|             0|    1|        2|        0.0|            0.0|        0.0|            0.0|          1.0|          0.0|               1.0|             1|                77|                   1.0|                   0.0|                        1.0|                       0.26|                 0.0|                     0.0|                 0.0|                     0.0|anomaly|\n",
            "|       0|         icmp|  eco_i|  SF|        8|        0|   0|             0|     0|  0|                0|        0|              0|         0|           0|       0|                 0|         0|               0|                0|            0|             0|    1|        2|        0.0|            0.0|        0.0|            0.0|          1.0|          0.0|               1.0|             1|                95|                   1.0|                   0.0|                        1.0|                       0.51|                 0.0|                     0.0|                 0.0|                     0.0|anomaly|\n",
            "|       0|         icmp|  eco_i|  SF|        8|        0|   0|             0|     0|  0|                0|        0|              0|         0|           0|       0|                 0|         0|               0|                0|            0|             0|    1|        2|        0.0|            0.0|        0.0|            0.0|          1.0|          0.0|               1.0|             2|                 2|                   1.0|                   0.0|                        1.0|                        0.0|                 0.0|                     0.0|                 0.0|                     0.0|anomaly|\n",
            "|       0|         icmp|  eco_i|  SF|        8|        0|   0|             0|     0|  0|                0|        0|              0|         0|           0|       0|                 0|         0|               0|                0|            0|             0|    1|        2|        0.0|            0.0|        0.0|            0.0|          1.0|          0.0|               1.0|             2|                54|                   1.0|                   0.0|                        1.0|                       0.26|                 0.0|                     0.0|                 0.0|                     0.0|anomaly|\n",
            "|       0|         icmp|  eco_i|  SF|        8|        0|   0|             0|     0|  0|                0|        0|              0|         0|           0|       0|                 0|         0|               0|                0|            0|             0|    1|        2|        0.0|            0.0|        0.0|            0.0|          1.0|          0.0|               1.0|             2|               129|                   1.0|                   0.0|                        1.0|                        0.5|                 0.0|                     0.0|                 0.0|                     0.0|anomaly|\n",
            "+--------+-------------+-------+----+---------+---------+----+--------------+------+---+-----------------+---------+---------------+----------+------------+--------+------------------+----------+----------------+-----------------+-------------+--------------+-----+---------+-----------+---------------+-----------+---------------+-------------+-------------+------------------+--------------+------------------+----------------------+----------------------+---------------------------+---------------------------+--------------------+------------------------+--------------------+------------------------+-------+\n",
            "only showing top 20 rows\n",
            "\n"
          ]
        }
      ],
      "source": [
        "train_df.show()"
      ]
    },
    {
      "cell_type": "code",
      "execution_count": 30,
      "metadata": {
        "colab": {
          "base_uri": "https://localhost:8080/"
        },
        "id": "y3eOvS1Oee6x",
        "outputId": "67bf3571-b28b-4af1-99e6-4a215b852222"
      },
      "outputs": [
        {
          "data": {
            "text/plain": [
              "['duration',\n",
              " 'protocol_type',\n",
              " 'service',\n",
              " 'flag',\n",
              " 'src_bytes',\n",
              " 'dst_bytes',\n",
              " 'land',\n",
              " 'wrong_fragment',\n",
              " 'urgent',\n",
              " 'hot',\n",
              " 'num_failed_logins',\n",
              " 'logged_in',\n",
              " 'num_compromised',\n",
              " 'root_shell',\n",
              " 'su_attempted',\n",
              " 'num_root',\n",
              " 'num_file_creations',\n",
              " 'num_shells',\n",
              " 'num_access_files',\n",
              " 'num_outbound_cmds',\n",
              " 'is_host_login',\n",
              " 'is_guest_login',\n",
              " 'count',\n",
              " 'srv_count',\n",
              " 'serror_rate',\n",
              " 'srv_serror_rate',\n",
              " 'rerror_rate',\n",
              " 'srv_rerror_rate',\n",
              " 'same_srv_rate',\n",
              " 'diff_srv_rate',\n",
              " 'srv_diff_host_rate',\n",
              " 'dst_host_count',\n",
              " 'dst_host_srv_count',\n",
              " 'dst_host_same_srv_rate',\n",
              " 'dst_host_diff_srv_rate',\n",
              " 'dst_host_same_src_port_rate',\n",
              " 'dst_host_srv_diff_host_rate',\n",
              " 'dst_host_serror_rate',\n",
              " 'dst_host_srv_serror_rate',\n",
              " 'dst_host_rerror_rate',\n",
              " 'dst_host_srv_rerror_rate',\n",
              " 'class']"
            ]
          },
          "execution_count": 30,
          "metadata": {},
          "output_type": "execute_result"
        }
      ],
      "source": [
        "train_df.columns"
      ]
    },
    {
      "cell_type": "markdown",
      "metadata": {
        "id": "qtV1VUvyee6x"
      },
      "source": [
        "### To understand what features we are playing with, description of all the features is given below:\n",
        "\n",
        "##### **Basic features which describe the connection without looking at the payload**\n",
        "- **duration** – Length (in seconds) of the connection.\n",
        "- **protocol_type** – Network protocol used (e.g., TCP, UDP, ICMP).\n",
        "- **service** – Destination service (e.g., http, telnet, ftp).\n",
        "- **flag** – Status flag of the connection (e.g., S0, SF, REJ).\n",
        "- **src_bytes** – Number of data bytes sent from source to destination.\n",
        "- **dst_bytes** – Number of data bytes sent from destination to source.\n",
        "- **land** – 1 if connection is from/to the same host/port; 0 otherwise.\n",
        "- **wrong_fragment** – Number of wrong fragments in the packet.\n",
        "- **urgent** – Number of urgent packets.\n",
        "##### **Content features which describe what is within the connection payload**\n",
        "- **hot** – Number of “hot” indicators (e.g., suspicious commands).\n",
        "- **num_failed_logins** – Number of failed login attempts.\n",
        "- **logged_in** – 1 if successfully logged in; 0 otherwise.\n",
        "- **num_compromised** – Number of compromised conditions.\n",
        "- **root_shell** – 1 if root shell is obtained; 0 otherwise.\n",
        "- **su_attempted** – 1 if “su root” command attempted; 0 otherwise.\n",
        "- **num_root** – Number of “root” accesses.\n",
        "- **num_file_creations** – Number of file creation operations.\n",
        "- **num_shells** – Number of shell prompts opened.\n",
        "- **num_access_files** – Number of attempts to access control files.\n",
        "- **num_outbound_cmds** – Number of outbound commands.\n",
        "- **is_host_login** – 1 if user is a “host login”; 0 otherwise.\n",
        "- **is_guest_login** – 1 if user is a “guest login”; 0 otherwise.\n",
        "##### **Traffic features based on the past 2 seconds wiindow for same host\n",
        "- **count** – Number of connections to the same host in the past 2 seconds.\n",
        "- **srv_count** – Number of connections to the same service.\n",
        "- **serror_rate** – % of connections with “SYN” errors.\n",
        "- **srv_serror_rate** – % of connections with “SYN” errors to the same service.\n",
        "- **rerror_rate** – % of connections with “REJ” errors.\n",
        "- **srv_rerror_rate** – % of REJ errors to the same service.\n",
        "- **same_srv_rate** – % of connections to the same service.\n",
        "- **diff_srv_rate** – % of connections to different services.\n",
        "- **srv_diff_host_rate** – % of connections to the same service but different host.\n",
        "- **dst_host_count** – Number of connections to the destination host.\n",
        "- **dst_host_srv_count** – Connections to the destination host using the same service.\n",
        "- **dst_host_same_srv_rate** – % of same-service connections among dst_host_count.\n",
        "- **dst_host_diff_srv_rate** – % of different-service connections.\n",
        "- **dst_host_same_src_port_rate** – % of connections from same source port.\n",
        "- **dst_host_srv_diff_host_rate** – % of same-service connections to different hosts.\n",
        "- **dst_host_serror_rate** – % of connections with SYN errors.\n",
        "- **dst_host_srv_serror_rate** – % of same-service SYN errors.\n",
        "- **dst_host_rerror_rate** – % of connections with REJ errors.\n",
        "- **dst_host_srv_rerror_rate** – % of same-service REJ errors.\n",
        "##### **Label**\n",
        "- **class** - either \"normal\" or \"anomally\""
      ]
    },
    {
      "cell_type": "markdown",
      "metadata": {
        "id": "9PjnvD8iee6x"
      },
      "source": [
        "Let's see if the data has duplicates and/or missing values"
      ]
    },
    {
      "cell_type": "code",
      "execution_count": 31,
      "metadata": {
        "colab": {
          "base_uri": "https://localhost:8080/"
        },
        "id": "tSyzemnuee6y",
        "outputId": "25ee015f-262a-4288-f107-98a4e1d4a9ba"
      },
      "outputs": [
        {
          "name": "stdout",
          "output_type": "stream",
          "text": [
            "No missing values in the dataset\n",
            "No duplicates in the dataset\n"
          ]
        }
      ],
      "source": [
        "if train_df.count() == train_df.na.drop(how=\"any\").count():\n",
        "    print(\"No missing values in the dataset\")\n",
        "else:\n",
        "    print(\"Missing values, need to treat the dataset\")\n",
        "\n",
        "if train_df.count() == train_df.dropDuplicates().count():\n",
        "    print(\"No duplicates in the dataset\")\n",
        "else:\n",
        "    print(\"Duplicate values, need to treat the dataset\")"
      ]
    },
    {
      "cell_type": "markdown",
      "metadata": {
        "id": "MX1xKGpBee6y"
      },
      "source": [
        "Lets check the data distribution for all the columns"
      ]
    },
    {
      "cell_type": "code",
      "execution_count": 32,
      "metadata": {
        "colab": {
          "base_uri": "https://localhost:8080/"
        },
        "id": "R5M8oP8Bee6y",
        "outputId": "5ec1b77d-d004-4d0f-f8e1-92bd2fa4382f"
      },
      "outputs": [
        {
          "name": "stdout",
          "output_type": "stream",
          "text": [
            "+-------+------------------+-------------+-------+-----+------------------+------------------+--------------------+-------------------+------+-------------------+--------------------+-------------------+-------------------+--------------------+--------------------+-------------------+--------------------+--------------------+--------------------+-----------------+-------------+--------------------+------------------+-----------------+-------------------+------------------+-------------------+-------------------+-------------------+-------------------+-------------------+------------------+------------------+----------------------+----------------------+---------------------------+---------------------------+--------------------+------------------------+--------------------+------------------------+-------+\n",
            "|summary|          duration|protocol_type|service| flag|         src_bytes|         dst_bytes|                land|     wrong_fragment|urgent|                hot|   num_failed_logins|          logged_in|    num_compromised|          root_shell|        su_attempted|           num_root|  num_file_creations|          num_shells|    num_access_files|num_outbound_cmds|is_host_login|      is_guest_login|             count|        srv_count|        serror_rate|   srv_serror_rate|        rerror_rate|    srv_rerror_rate|      same_srv_rate|      diff_srv_rate| srv_diff_host_rate|    dst_host_count|dst_host_srv_count|dst_host_same_srv_rate|dst_host_diff_srv_rate|dst_host_same_src_port_rate|dst_host_srv_diff_host_rate|dst_host_serror_rate|dst_host_srv_serror_rate|dst_host_rerror_rate|dst_host_srv_rerror_rate|  class|\n",
            "+-------+------------------+-------------+-------+-----+------------------+------------------+--------------------+-------------------+------+-------------------+--------------------+-------------------+-------------------+--------------------+--------------------+-------------------+--------------------+--------------------+--------------------+-----------------+-------------+--------------------+------------------+-----------------+-------------------+------------------+-------------------+-------------------+-------------------+-------------------+-------------------+------------------+------------------+----------------------+----------------------+---------------------------+---------------------------+--------------------+------------------------+--------------------+------------------------+-------+\n",
            "|  count|             20177|        20177|  20177|20177|             20177|             20177|               20177|              20177| 20177|              20177|               20177|              20177|              20177|               20177|               20177|              20177|               20177|               20177|               20177|            20177|        20177|               20177|             20177|            20177|              20177|             20177|              20177|              20177|              20177|              20177|              20177|             20177|             20177|                 20177|                 20177|                      20177|                      20177|               20177|                   20177|               20177|                   20177|  20177|\n",
            "|   mean|309.08787232988055|         NULL|   NULL| NULL|28446.706844426822|3526.6813698765923|4.956138177132378...|0.02448332259503395|   0.0|0.19284333647222085|0.001090350398969...|0.39317044159191156|0.18813500520394508|0.001585964216682...|0.001189473162511...|0.20364771769836942|0.011052188135005204|3.469296723992664...|0.004460524359419141|              0.0|          0.0|0.008970610100609604| 84.64434752440899|28.01947762303613|0.28561282648560293|  0.28315557317738| 0.1189061803043075|0.12045794716756701| 0.6615750607127048|0.06306091093819334|0.09633097090746828|182.08390741933886|115.39574763344402|    0.5215478019527332|   0.08224859989096052|        0.14921048718838748|       0.032416117361349014| 0.28494027853496834|      0.2789939039500437| 0.11773008871487418|     0.11926203102542485|   NULL|\n",
            "| stddev| 2728.524171271321|         NULL|   NULL| NULL|2692854.7407896677| 91220.28799081217|0.007039984500787198|  0.263973596796371|   0.0| 2.1140490390484588| 0.04222687832570109| 0.4884662432142891|   8.86454100382963| 0.03979355998139114| 0.04560993629531829|  9.757122420195374| 0.36571815667969393| 0.01862327848157569| 0.09896334020526124|              0.0|          0.0| 0.09428986628692783|115.16128869825539|73.39850590696118| 0.4469351112030866|0.4472969961097178|0.31899664575344494|0.32265477635855205|0.43909153388263644|0.18065853934438897|0.25695252018548714| 99.17086805016122|110.72762754498994|    0.4492702450420518|   0.18692266137468722|        0.31045464051205607|        0.11112371078158975| 0.44494609762265913|      0.4457321281531212|  0.3053589103640769|      0.3177930962190014|   NULL|\n",
            "|    min|                 0|         icmp|    IRC|  OTH|                 0|                 0|                   0|                  0|     0|                  0|                   0|                  0|                  0|                   0|                   0|                  0|                   0|                   0|                   0|                0|            0|                   0|                 1|                1|                0.0|               0.0|                0.0|                0.0|                0.0|                0.0|                0.0|                 0|                 0|                   0.0|                   0.0|                        0.0|                        0.0|                 0.0|                     0.0|                 0.0|                     0.0|anomaly|\n",
            "|    max|             42862|          udp|  whois|   SH|         381709090|           5151385|                   1|                  3|     0|                 77|                   4|                  1|                884|                   1|                   2|                975|                  21|                   1|                   8|                0|            0|                   1|               511|              511|                1.0|               1.0|                1.0|                1.0|                1.0|                1.0|                1.0|               255|               255|                   1.0|                   1.0|                        1.0|                        1.0|                 1.0|                     1.0|                 1.0|                     1.0| normal|\n",
            "+-------+------------------+-------------+-------+-----+------------------+------------------+--------------------+-------------------+------+-------------------+--------------------+-------------------+-------------------+--------------------+--------------------+-------------------+--------------------+--------------------+--------------------+-----------------+-------------+--------------------+------------------+-----------------+-------------------+------------------+-------------------+-------------------+-------------------+-------------------+-------------------+------------------+------------------+----------------------+----------------------+---------------------------+---------------------------+--------------------+------------------------+--------------------+------------------------+-------+\n",
            "\n"
          ]
        }
      ],
      "source": [
        "train_df.describe().show()"
      ]
    },
    {
      "cell_type": "markdown",
      "metadata": {
        "id": "gViQLx5Wee6y"
      },
      "source": [
        "You can notice that some of the columns min, max, average and median is the same value, hence they don't have any value variation. Dropping these columns will help make our training more efficient"
      ]
    },
    {
      "cell_type": "code",
      "execution_count": 33,
      "metadata": {
        "id": "OM9B3Musee6y"
      },
      "outputs": [],
      "source": [
        "train_df = train_df.drop(\"num_outbound_cmds\", \"is_host_login\")"
      ]
    },
    {
      "cell_type": "markdown",
      "metadata": {
        "id": "7APrTzptee6z"
      },
      "source": [
        "We will not be checking for outliers in the data as they are valuable for the potential anomally detection i.e. financial fraud. We will look into class imbalance and resolve it further"
      ]
    },
    {
      "cell_type": "code",
      "execution_count": 34,
      "metadata": {
        "colab": {
          "base_uri": "https://localhost:8080/"
        },
        "id": "l2bZCopCee6z",
        "outputId": "96b97d47-3c59-4b89-d3dd-9a847794f48e"
      },
      "outputs": [
        {
          "name": "stdout",
          "output_type": "stream",
          "text": [
            "+-------+------+\n",
            "|anomaly|normal|\n",
            "+-------+------+\n",
            "|   9420| 10757|\n",
            "+-------+------+\n",
            "\n"
          ]
        }
      ],
      "source": [
        "train_df.groupBy().pivot(\"class\").count().show()"
      ]
    },
    {
      "cell_type": "markdown",
      "metadata": {
        "id": "xZNCCYJvee6z"
      },
      "source": [
        "The classes are in the ratio of 45:55 which is decently balanced, hence we don't need to do further balancing in such scenario. Lets check if the datatypes are assigned accurately or if they need to be changed"
      ]
    },
    {
      "cell_type": "code",
      "execution_count": 35,
      "metadata": {
        "colab": {
          "base_uri": "https://localhost:8080/"
        },
        "id": "GkuzssUAee6z",
        "outputId": "fdfba2a0-5159-4338-8729-4612be149a42"
      },
      "outputs": [
        {
          "name": "stdout",
          "output_type": "stream",
          "text": [
            "+--------+-------------+-------+----+---------+---------+----+--------------+------+---+-----------------+---------+---------------+----------+------------+--------+------------------+----------+----------------+--------------+-----+---------+-----------+---------------+-----------+---------------+-------------+-------------+------------------+--------------+------------------+----------------------+----------------------+---------------------------+---------------------------+--------------------+------------------------+--------------------+------------------------+-------+\n",
            "|duration|protocol_type|service|flag|src_bytes|dst_bytes|land|wrong_fragment|urgent|hot|num_failed_logins|logged_in|num_compromised|root_shell|su_attempted|num_root|num_file_creations|num_shells|num_access_files|is_guest_login|count|srv_count|serror_rate|srv_serror_rate|rerror_rate|srv_rerror_rate|same_srv_rate|diff_srv_rate|srv_diff_host_rate|dst_host_count|dst_host_srv_count|dst_host_same_srv_rate|dst_host_diff_srv_rate|dst_host_same_src_port_rate|dst_host_srv_diff_host_rate|dst_host_serror_rate|dst_host_srv_serror_rate|dst_host_rerror_rate|dst_host_srv_rerror_rate|  class|\n",
            "+--------+-------------+-------+----+---------+---------+----+--------------+------+---+-----------------+---------+---------------+----------+------------+--------+------------------+----------+----------------+--------------+-----+---------+-----------+---------------+-----------+---------------+-------------+-------------+------------------+--------------+------------------+----------------------+----------------------+---------------------------+---------------------------+--------------------+------------------------+--------------------+------------------------+-------+\n",
            "|       0|         icmp|  eco_i|  SF|        8|        0|   0|             0|     0|  0|                0|        0|              0|         0|           0|       0|                 0|         0|               0|             0|    1|        1|        0.0|            0.0|        0.0|            0.0|          1.0|          0.0|               0.0|             1|                 1|                   1.0|                   0.0|                        1.0|                        0.0|                 0.0|                     0.0|                 0.0|                     0.0|anomaly|\n",
            "|       0|         icmp|  eco_i|  SF|        8|        0|   0|             0|     0|  0|                0|        0|              0|         0|           0|       0|                 0|         0|               0|             0|    1|        1|        0.0|            0.0|        0.0|            0.0|          1.0|          0.0|               0.0|             1|               131|                   1.0|                   0.0|                        1.0|                        0.5|                 0.0|                     0.0|                 0.0|                     0.0|anomaly|\n",
            "|       0|         icmp|  eco_i|  SF|        8|        0|   0|             0|     0|  0|                0|        0|              0|         0|           0|       0|                 0|         0|               0|             0|    1|        1|        0.0|            0.0|        0.0|            0.0|          1.0|          0.0|               0.0|             1|               255|                   1.0|                   0.0|                        1.0|                        0.5|                 0.0|                     0.0|                 0.0|                     0.0|anomaly|\n",
            "|       0|         icmp|  eco_i|  SF|        8|        0|   0|             0|     0|  0|                0|        0|              0|         0|           0|       0|                 0|         0|               0|             0|    1|        1|        0.0|            0.0|        0.0|            0.0|          1.0|          0.0|               0.0|             2|                 2|                   1.0|                   0.0|                        1.0|                        0.0|                 0.0|                     0.0|                 0.0|                     0.0|anomaly|\n",
            "|       0|         icmp|  eco_i|  SF|        8|        0|   0|             0|     0|  0|                0|        0|              0|         0|           0|       0|                 0|         0|               0|             0|    1|        1|        0.0|            0.0|        0.0|            0.0|          1.0|          0.0|               0.0|             2|                12|                   1.0|                   0.0|                        1.0|                        0.5|                 0.0|                     0.0|                 0.0|                     0.0|anomaly|\n",
            "|       0|         icmp|  eco_i|  SF|        8|        0|   0|             0|     0|  0|                0|        0|              0|         0|           0|       0|                 0|         0|               0|             0|    1|        1|        0.0|            0.0|        0.0|            0.0|          1.0|          0.0|               0.0|             2|                38|                   1.0|                   0.0|                        1.0|                        0.5|                 0.0|                     0.0|                 0.0|                     0.0|anomaly|\n",
            "|       0|         icmp|  eco_i|  SF|        8|        0|   0|             0|     0|  0|                0|        0|              0|         0|           0|       0|                 0|         0|               0|             0|    1|        1|        0.0|            0.0|        0.0|            0.0|          1.0|          0.0|               0.0|             2|               118|                   1.0|                   0.0|                        1.0|                       0.25|                 0.0|                     0.0|                 0.0|                     0.0|anomaly|\n",
            "|       0|         icmp|  eco_i|  SF|        8|        0|   0|             0|     0|  0|                0|        0|              0|         0|           0|       0|                 0|         0|               0|             0|    1|        1|        0.0|            0.0|        0.0|            0.0|          1.0|          0.0|               0.0|             2|               244|                   1.0|                   0.0|                        1.0|                        0.5|                 0.0|                     0.0|                 0.0|                     0.0|anomaly|\n",
            "|       0|         icmp|  eco_i|  SF|        8|        0|   0|             0|     0|  0|                0|        0|              0|         0|           0|       0|                 0|         0|               0|             0|    1|        1|        0.0|            0.0|        0.0|            0.0|          1.0|          0.0|               0.0|             2|               255|                   1.0|                   0.0|                        1.0|                        0.5|                 0.0|                     0.0|                 0.0|                     0.0|anomaly|\n",
            "|       0|         icmp|  eco_i|  SF|        8|        0|   0|             0|     0|  0|                0|        0|              0|         0|           0|       0|                 0|         0|               0|             0|    1|        1|        0.0|            0.0|        0.0|            0.0|          1.0|          0.0|               0.0|             4|                 2|                   0.5|                  0.75|                        0.5|                        0.0|                 0.0|                     0.0|                 0.0|                     0.0|anomaly|\n",
            "|       0|         icmp|  eco_i|  SF|        8|        0|   0|             0|     0|  0|                0|        0|              0|         0|           0|       0|                 0|         0|               0|             0|    1|        1|        0.0|            0.0|        0.0|            0.0|          1.0|          0.0|               0.0|             7|                 5|                  0.71|                  0.43|                       0.71|                        0.0|                 0.0|                     0.0|                 0.0|                     0.0|anomaly|\n",
            "|       0|         icmp|  eco_i|  SF|        8|        0|   0|             0|     0|  0|                0|        0|              0|         0|           0|       0|                 0|         0|               0|             0|    1|        2|        0.0|            0.0|        0.0|            0.0|          1.0|          0.0|               1.0|             1|                17|                   1.0|                   0.0|                        1.0|                       0.53|                 0.0|                     0.0|                 0.0|                     0.0|anomaly|\n",
            "|       0|         icmp|  eco_i|  SF|        8|        0|   0|             0|     0|  0|                0|        0|              0|         0|           0|       0|                 0|         0|               0|             0|    1|        2|        0.0|            0.0|        0.0|            0.0|          1.0|          0.0|               1.0|             1|                43|                   1.0|                   0.0|                        1.0|                       0.51|                 0.0|                     0.0|                 0.0|                     0.0|anomaly|\n",
            "|       0|         icmp|  eco_i|  SF|        8|        0|   0|             0|     0|  0|                0|        0|              0|         0|           0|       0|                 0|         0|               0|             0|    1|        2|        0.0|            0.0|        0.0|            0.0|          1.0|          0.0|               1.0|             1|                45|                   1.0|                   0.0|                        1.0|                       0.27|                 0.0|                     0.0|                 0.0|                     0.0|anomaly|\n",
            "|       0|         icmp|  eco_i|  SF|        8|        0|   0|             0|     0|  0|                0|        0|              0|         0|           0|       0|                 0|         0|               0|             0|    1|        2|        0.0|            0.0|        0.0|            0.0|          1.0|          0.0|               1.0|             1|                62|                   1.0|                   0.0|                        1.0|                       0.52|                 0.0|                     0.0|                 0.0|                     0.0|anomaly|\n",
            "|       0|         icmp|  eco_i|  SF|        8|        0|   0|             0|     0|  0|                0|        0|              0|         0|           0|       0|                 0|         0|               0|             0|    1|        2|        0.0|            0.0|        0.0|            0.0|          1.0|          0.0|               1.0|             1|                77|                   1.0|                   0.0|                        1.0|                       0.26|                 0.0|                     0.0|                 0.0|                     0.0|anomaly|\n",
            "|       0|         icmp|  eco_i|  SF|        8|        0|   0|             0|     0|  0|                0|        0|              0|         0|           0|       0|                 0|         0|               0|             0|    1|        2|        0.0|            0.0|        0.0|            0.0|          1.0|          0.0|               1.0|             1|                95|                   1.0|                   0.0|                        1.0|                       0.51|                 0.0|                     0.0|                 0.0|                     0.0|anomaly|\n",
            "|       0|         icmp|  eco_i|  SF|        8|        0|   0|             0|     0|  0|                0|        0|              0|         0|           0|       0|                 0|         0|               0|             0|    1|        2|        0.0|            0.0|        0.0|            0.0|          1.0|          0.0|               1.0|             2|                 2|                   1.0|                   0.0|                        1.0|                        0.0|                 0.0|                     0.0|                 0.0|                     0.0|anomaly|\n",
            "|       0|         icmp|  eco_i|  SF|        8|        0|   0|             0|     0|  0|                0|        0|              0|         0|           0|       0|                 0|         0|               0|             0|    1|        2|        0.0|            0.0|        0.0|            0.0|          1.0|          0.0|               1.0|             2|                54|                   1.0|                   0.0|                        1.0|                       0.26|                 0.0|                     0.0|                 0.0|                     0.0|anomaly|\n",
            "|       0|         icmp|  eco_i|  SF|        8|        0|   0|             0|     0|  0|                0|        0|              0|         0|           0|       0|                 0|         0|               0|             0|    1|        2|        0.0|            0.0|        0.0|            0.0|          1.0|          0.0|               1.0|             2|               129|                   1.0|                   0.0|                        1.0|                        0.5|                 0.0|                     0.0|                 0.0|                     0.0|anomaly|\n",
            "+--------+-------------+-------+----+---------+---------+----+--------------+------+---+-----------------+---------+---------------+----------+------------+--------+------------------+----------+----------------+--------------+-----+---------+-----------+---------------+-----------+---------------+-------------+-------------+------------------+--------------+------------------+----------------------+----------------------+---------------------------+---------------------------+--------------------+------------------------+--------------------+------------------------+-------+\n",
            "only showing top 20 rows\n",
            "\n"
          ]
        }
      ],
      "source": [
        "train_df.show()"
      ]
    },
    {
      "cell_type": "code",
      "execution_count": 36,
      "metadata": {
        "colab": {
          "base_uri": "https://localhost:8080/"
        },
        "id": "XHwTGFVSee6z",
        "outputId": "c5910930-5693-4e6d-f0c8-5cfe4777e398"
      },
      "outputs": [
        {
          "name": "stdout",
          "output_type": "stream",
          "text": [
            "root\n",
            " |-- duration: integer (nullable = true)\n",
            " |-- protocol_type: string (nullable = true)\n",
            " |-- service: string (nullable = true)\n",
            " |-- flag: string (nullable = true)\n",
            " |-- src_bytes: integer (nullable = true)\n",
            " |-- dst_bytes: integer (nullable = true)\n",
            " |-- land: integer (nullable = true)\n",
            " |-- wrong_fragment: integer (nullable = true)\n",
            " |-- urgent: integer (nullable = true)\n",
            " |-- hot: integer (nullable = true)\n",
            " |-- num_failed_logins: integer (nullable = true)\n",
            " |-- logged_in: integer (nullable = true)\n",
            " |-- num_compromised: integer (nullable = true)\n",
            " |-- root_shell: integer (nullable = true)\n",
            " |-- su_attempted: integer (nullable = true)\n",
            " |-- num_root: integer (nullable = true)\n",
            " |-- num_file_creations: integer (nullable = true)\n",
            " |-- num_shells: integer (nullable = true)\n",
            " |-- num_access_files: integer (nullable = true)\n",
            " |-- is_guest_login: integer (nullable = true)\n",
            " |-- count: integer (nullable = true)\n",
            " |-- srv_count: integer (nullable = true)\n",
            " |-- serror_rate: double (nullable = true)\n",
            " |-- srv_serror_rate: double (nullable = true)\n",
            " |-- rerror_rate: double (nullable = true)\n",
            " |-- srv_rerror_rate: double (nullable = true)\n",
            " |-- same_srv_rate: double (nullable = true)\n",
            " |-- diff_srv_rate: double (nullable = true)\n",
            " |-- srv_diff_host_rate: double (nullable = true)\n",
            " |-- dst_host_count: integer (nullable = true)\n",
            " |-- dst_host_srv_count: integer (nullable = true)\n",
            " |-- dst_host_same_srv_rate: double (nullable = true)\n",
            " |-- dst_host_diff_srv_rate: double (nullable = true)\n",
            " |-- dst_host_same_src_port_rate: double (nullable = true)\n",
            " |-- dst_host_srv_diff_host_rate: double (nullable = true)\n",
            " |-- dst_host_serror_rate: double (nullable = true)\n",
            " |-- dst_host_srv_serror_rate: double (nullable = true)\n",
            " |-- dst_host_rerror_rate: double (nullable = true)\n",
            " |-- dst_host_srv_rerror_rate: double (nullable = true)\n",
            " |-- class: string (nullable = true)\n",
            "\n"
          ]
        }
      ],
      "source": [
        "train_df.printSchema()"
      ]
    },
    {
      "cell_type": "markdown",
      "metadata": {
        "id": "ZmpybP5lee60"
      },
      "source": [
        "The columns look fine and the correct values seem to be assigned. Lets encode all the string columns to indexed columns and then perform one hot encoding, so its readable to our ML model"
      ]
    },
    {
      "cell_type": "code",
      "execution_count": 37,
      "metadata": {
        "id": "AsUa6__oee60"
      },
      "outputs": [],
      "source": [
        "# Getting all the column names which are string\n",
        "columnList = [item[0] for item in train_df.dtypes if item[1].startswith('string')]"
      ]
    },
    {
      "cell_type": "code",
      "execution_count": 41,
      "metadata": {
        "colab": {
          "base_uri": "https://localhost:8080/"
        },
        "id": "zsQMY20fee60",
        "outputId": "1bcf1b74-3cfd-44fa-e3bb-f149f47f0194"
      },
      "outputs": [
        {
          "name": "stdout",
          "output_type": "stream",
          "text": [
            "+-------------+-------+----+-------+-------------------+-------------+----------+-----------+-----------------+--------------+--------------+---------+\n",
            "|protocol_type|service|flag|  class|protocol_type_index|service_index|flag_index|class_index|protocol_type_ohe|   service_ohe|      flag_ohe|class_ohe|\n",
            "+-------------+-------+----+-------+-------------------+-------------+----------+-----------+-----------------+--------------+--------------+---------+\n",
            "|         icmp|  eco_i|  SF|anomaly|                2.0|          5.0|       0.0|        1.0|        (2,[],[])|(65,[5],[1.0])|(10,[0],[1.0])|(1,[],[])|\n",
            "|         icmp|  eco_i|  SF|anomaly|                2.0|          5.0|       0.0|        1.0|        (2,[],[])|(65,[5],[1.0])|(10,[0],[1.0])|(1,[],[])|\n",
            "|         icmp|  eco_i|  SF|anomaly|                2.0|          5.0|       0.0|        1.0|        (2,[],[])|(65,[5],[1.0])|(10,[0],[1.0])|(1,[],[])|\n",
            "|         icmp|  eco_i|  SF|anomaly|                2.0|          5.0|       0.0|        1.0|        (2,[],[])|(65,[5],[1.0])|(10,[0],[1.0])|(1,[],[])|\n",
            "|         icmp|  eco_i|  SF|anomaly|                2.0|          5.0|       0.0|        1.0|        (2,[],[])|(65,[5],[1.0])|(10,[0],[1.0])|(1,[],[])|\n",
            "|         icmp|  eco_i|  SF|anomaly|                2.0|          5.0|       0.0|        1.0|        (2,[],[])|(65,[5],[1.0])|(10,[0],[1.0])|(1,[],[])|\n",
            "|         icmp|  eco_i|  SF|anomaly|                2.0|          5.0|       0.0|        1.0|        (2,[],[])|(65,[5],[1.0])|(10,[0],[1.0])|(1,[],[])|\n",
            "|         icmp|  eco_i|  SF|anomaly|                2.0|          5.0|       0.0|        1.0|        (2,[],[])|(65,[5],[1.0])|(10,[0],[1.0])|(1,[],[])|\n",
            "|         icmp|  eco_i|  SF|anomaly|                2.0|          5.0|       0.0|        1.0|        (2,[],[])|(65,[5],[1.0])|(10,[0],[1.0])|(1,[],[])|\n",
            "|         icmp|  eco_i|  SF|anomaly|                2.0|          5.0|       0.0|        1.0|        (2,[],[])|(65,[5],[1.0])|(10,[0],[1.0])|(1,[],[])|\n",
            "|         icmp|  eco_i|  SF|anomaly|                2.0|          5.0|       0.0|        1.0|        (2,[],[])|(65,[5],[1.0])|(10,[0],[1.0])|(1,[],[])|\n",
            "|         icmp|  eco_i|  SF|anomaly|                2.0|          5.0|       0.0|        1.0|        (2,[],[])|(65,[5],[1.0])|(10,[0],[1.0])|(1,[],[])|\n",
            "|         icmp|  eco_i|  SF|anomaly|                2.0|          5.0|       0.0|        1.0|        (2,[],[])|(65,[5],[1.0])|(10,[0],[1.0])|(1,[],[])|\n",
            "|         icmp|  eco_i|  SF|anomaly|                2.0|          5.0|       0.0|        1.0|        (2,[],[])|(65,[5],[1.0])|(10,[0],[1.0])|(1,[],[])|\n",
            "|         icmp|  eco_i|  SF|anomaly|                2.0|          5.0|       0.0|        1.0|        (2,[],[])|(65,[5],[1.0])|(10,[0],[1.0])|(1,[],[])|\n",
            "|         icmp|  eco_i|  SF|anomaly|                2.0|          5.0|       0.0|        1.0|        (2,[],[])|(65,[5],[1.0])|(10,[0],[1.0])|(1,[],[])|\n",
            "|         icmp|  eco_i|  SF|anomaly|                2.0|          5.0|       0.0|        1.0|        (2,[],[])|(65,[5],[1.0])|(10,[0],[1.0])|(1,[],[])|\n",
            "|         icmp|  eco_i|  SF|anomaly|                2.0|          5.0|       0.0|        1.0|        (2,[],[])|(65,[5],[1.0])|(10,[0],[1.0])|(1,[],[])|\n",
            "|         icmp|  eco_i|  SF|anomaly|                2.0|          5.0|       0.0|        1.0|        (2,[],[])|(65,[5],[1.0])|(10,[0],[1.0])|(1,[],[])|\n",
            "|         icmp|  eco_i|  SF|anomaly|                2.0|          5.0|       0.0|        1.0|        (2,[],[])|(65,[5],[1.0])|(10,[0],[1.0])|(1,[],[])|\n",
            "+-------------+-------+----+-------+-------------------+-------------+----------+-----------+-----------------+--------------+--------------+---------+\n",
            "only showing top 20 rows\n",
            "\n"
          ]
        }
      ],
      "source": [
        "from pyspark.ml import Pipeline\n",
        "from pyspark.ml.feature import StringIndexer, OneHotEncoder\n",
        "\n",
        "index_cols = [c + \"_index\" for c in columnList]\n",
        "ohe_cols = [c + \"_ohe\" for c in columnList]\n",
        "\n",
        "# Step 1: Index string columns to numeric\n",
        "indexers = [StringIndexer(inputCol=c, outputCol=c + \"_index\") for c in columnList]\n",
        "\n",
        "# Step 2: OneHot encode the indexed columns\n",
        "ohe = OneHotEncoder(inputCols=index_cols, outputCols=ohe_cols)\n",
        "\n",
        "# Step 3: Build pipeline\n",
        "pipeline = Pipeline(stages=indexers + [ohe])\n",
        "\n",
        "# Fit and transform\n",
        "encoder_model = pipeline.fit(train_df)\n",
        "train_encoded_df = encoder_model.transform(train_df)\n",
        "test_encoded_df = encoder_model.transform(test_df)\n",
        "\n",
        "# To show the change from original value, indexed value and one hot encoded value\n",
        "train_encoded_df.select(columnList + index_cols + ohe_cols).show()\n",
        "\n",
        "index_cols.remove(\"class_index\")\n",
        "train_encoded_df = train_encoded_df.drop(*(index_cols))\n",
        "test_encoded_df = test_encoded_df.drop(*(index_cols))"
      ]
    },
    {
      "cell_type": "markdown",
      "metadata": {
        "id": "BNZQH2X_ee60"
      },
      "source": [
        "You may notice that the one hot encoded values when \".show()\" is used don't look like arrays. However, they are arrays. To understand what it means, I will use an example given below:\n",
        "\n",
        "(65,[44],[1.0]) => the array has 65 values and the index 44 has a non-zero value i.e. 1.0"
      ]
    },
    {
      "cell_type": "markdown",
      "metadata": {
        "id": "_7xcKY2Lee60"
      },
      "source": [
        "Alright, we have done plenty of data preprocessing, we can move on to normalizing the data but before that, we have to use Vector Assembler to combine input columns into single vector column"
      ]
    },
    {
      "cell_type": "code",
      "execution_count": 43,
      "metadata": {
        "id": "T1dp9Ygfee60"
      },
      "outputs": [],
      "source": [
        "# Getting the list of input columns\n",
        "input_cols = train_encoded_df.columns\n",
        "for i in columnList:\n",
        "    input_cols.remove(i)\n",
        "input_cols.remove(\"class_index\")\n",
        "input_cols.remove(\"class_ohe\")"
      ]
    },
    {
      "cell_type": "code",
      "execution_count": 45,
      "metadata": {
        "id": "L4tkDF9vee60"
      },
      "outputs": [],
      "source": [
        "from pyspark.ml.feature import VectorAssembler, MinMaxScaler\n",
        "assembler = VectorAssembler(inputCols=input_cols, outputCol=\"features_vector\")\n",
        "train_assembled_df = assembler.transform(train_encoded_df)\n",
        "test_assembled_df = assembler.transform(test_encoded_df)\n",
        "\n",
        "vec_assembler = VectorAssembler(\n",
        "    inputCols=[\"class_ohe\"],  # or any other OHE columns\n",
        "    outputCol=\"class_ohe_vec\"\n",
        ")\n",
        "train_assembled_df = vec_assembler.transform(train_assembled_df)\n",
        "test_assembled_df = vec_assembler.transform(test_assembled_df)"
      ]
    },
    {
      "cell_type": "code",
      "execution_count": 46,
      "metadata": {
        "id": "hO0mlLPGee61"
      },
      "outputs": [],
      "source": [
        "scaler = MinMaxScaler(inputCol=\"features_vector\", outputCol=\"scaled_features\")\n",
        "scaler_model = scaler.fit(train_assembled_df)\n",
        "train_scaled_df = scaler_model.transform(train_assembled_df)\n",
        "test_scaled_df = scaler_model.transform(test_assembled_df)"
      ]
    },
    {
      "cell_type": "code",
      "execution_count": 47,
      "metadata": {
        "colab": {
          "base_uri": "https://localhost:8080/"
        },
        "id": "r110MNl-ee61",
        "outputId": "4383e256-7b7f-4aef-a20e-66c0d8391d70"
      },
      "outputs": [
        {
          "name": "stdout",
          "output_type": "stream",
          "text": [
            "+--------+-------------+-------+----+---------+---------+----+--------------+------+---+-----------------+---------+---------------+----------+------------+--------+------------------+----------+----------------+--------------+-----+---------+-----------+---------------+-----------+---------------+-------------+-------------+------------------+--------------+------------------+----------------------+----------------------+---------------------------+---------------------------+--------------------+------------------------+--------------------+------------------------+-------+-----------+-----------------+--------------+--------------+---------+--------------------+-------------+--------------------+\n",
            "|duration|protocol_type|service|flag|src_bytes|dst_bytes|land|wrong_fragment|urgent|hot|num_failed_logins|logged_in|num_compromised|root_shell|su_attempted|num_root|num_file_creations|num_shells|num_access_files|is_guest_login|count|srv_count|serror_rate|srv_serror_rate|rerror_rate|srv_rerror_rate|same_srv_rate|diff_srv_rate|srv_diff_host_rate|dst_host_count|dst_host_srv_count|dst_host_same_srv_rate|dst_host_diff_srv_rate|dst_host_same_src_port_rate|dst_host_srv_diff_host_rate|dst_host_serror_rate|dst_host_srv_serror_rate|dst_host_rerror_rate|dst_host_srv_rerror_rate|  class|class_index|protocol_type_ohe|   service_ohe|      flag_ohe|class_ohe|     features_vector|class_ohe_vec|     scaled_features|\n",
            "+--------+-------------+-------+----+---------+---------+----+--------------+------+---+-----------------+---------+---------------+----------+------------+--------+------------------+----------+----------------+--------------+-----+---------+-----------+---------------+-----------+---------------+-------------+-------------+------------------+--------------+------------------+----------------------+----------------------+---------------------------+---------------------------+--------------------+------------------------+--------------------+------------------------+-------+-----------+-----------------+--------------+--------------+---------+--------------------+-------------+--------------------+\n",
            "|       0|         icmp|  eco_i|  SF|        8|        0|   0|             0|     0|  0|                0|        0|              0|         0|           0|       0|                 0|         0|               0|             0|    1|        1|        0.0|            0.0|        0.0|            0.0|          1.0|          0.0|               0.0|             1|                 1|                   1.0|                   0.0|                        1.0|                        0.0|                 0.0|                     0.0|                 0.0|                     0.0|anomaly|        1.0|        (2,[],[])|(65,[5],[1.0])|(10,[0],[1.0])|(1,[],[])|(113,[1,17,18,23,...|        [0.0]|(113,[1,5,23,26,2...|\n",
            "|       0|         icmp|  eco_i|  SF|        8|        0|   0|             0|     0|  0|                0|        0|              0|         0|           0|       0|                 0|         0|               0|             0|    1|        1|        0.0|            0.0|        0.0|            0.0|          1.0|          0.0|               0.0|             1|               131|                   1.0|                   0.0|                        1.0|                        0.5|                 0.0|                     0.0|                 0.0|                     0.0|anomaly|        1.0|        (2,[],[])|(65,[5],[1.0])|(10,[0],[1.0])|(1,[],[])|(113,[1,17,18,23,...|        [0.0]|(113,[1,5,23,26,2...|\n",
            "|       0|         icmp|  eco_i|  SF|        8|        0|   0|             0|     0|  0|                0|        0|              0|         0|           0|       0|                 0|         0|               0|             0|    1|        1|        0.0|            0.0|        0.0|            0.0|          1.0|          0.0|               0.0|             1|               255|                   1.0|                   0.0|                        1.0|                        0.5|                 0.0|                     0.0|                 0.0|                     0.0|anomaly|        1.0|        (2,[],[])|(65,[5],[1.0])|(10,[0],[1.0])|(1,[],[])|(113,[1,17,18,23,...|        [0.0]|(113,[1,5,23,26,2...|\n",
            "|       0|         icmp|  eco_i|  SF|        8|        0|   0|             0|     0|  0|                0|        0|              0|         0|           0|       0|                 0|         0|               0|             0|    1|        1|        0.0|            0.0|        0.0|            0.0|          1.0|          0.0|               0.0|             2|                 2|                   1.0|                   0.0|                        1.0|                        0.0|                 0.0|                     0.0|                 0.0|                     0.0|anomaly|        1.0|        (2,[],[])|(65,[5],[1.0])|(10,[0],[1.0])|(1,[],[])|(113,[1,17,18,23,...|        [0.0]|(113,[1,5,23,26,2...|\n",
            "|       0|         icmp|  eco_i|  SF|        8|        0|   0|             0|     0|  0|                0|        0|              0|         0|           0|       0|                 0|         0|               0|             0|    1|        1|        0.0|            0.0|        0.0|            0.0|          1.0|          0.0|               0.0|             2|                12|                   1.0|                   0.0|                        1.0|                        0.5|                 0.0|                     0.0|                 0.0|                     0.0|anomaly|        1.0|        (2,[],[])|(65,[5],[1.0])|(10,[0],[1.0])|(1,[],[])|(113,[1,17,18,23,...|        [0.0]|(113,[1,5,23,26,2...|\n",
            "|       0|         icmp|  eco_i|  SF|        8|        0|   0|             0|     0|  0|                0|        0|              0|         0|           0|       0|                 0|         0|               0|             0|    1|        1|        0.0|            0.0|        0.0|            0.0|          1.0|          0.0|               0.0|             2|                38|                   1.0|                   0.0|                        1.0|                        0.5|                 0.0|                     0.0|                 0.0|                     0.0|anomaly|        1.0|        (2,[],[])|(65,[5],[1.0])|(10,[0],[1.0])|(1,[],[])|(113,[1,17,18,23,...|        [0.0]|(113,[1,5,23,26,2...|\n",
            "|       0|         icmp|  eco_i|  SF|        8|        0|   0|             0|     0|  0|                0|        0|              0|         0|           0|       0|                 0|         0|               0|             0|    1|        1|        0.0|            0.0|        0.0|            0.0|          1.0|          0.0|               0.0|             2|               118|                   1.0|                   0.0|                        1.0|                       0.25|                 0.0|                     0.0|                 0.0|                     0.0|anomaly|        1.0|        (2,[],[])|(65,[5],[1.0])|(10,[0],[1.0])|(1,[],[])|(113,[1,17,18,23,...|        [0.0]|(113,[1,5,23,26,2...|\n",
            "|       0|         icmp|  eco_i|  SF|        8|        0|   0|             0|     0|  0|                0|        0|              0|         0|           0|       0|                 0|         0|               0|             0|    1|        1|        0.0|            0.0|        0.0|            0.0|          1.0|          0.0|               0.0|             2|               244|                   1.0|                   0.0|                        1.0|                        0.5|                 0.0|                     0.0|                 0.0|                     0.0|anomaly|        1.0|        (2,[],[])|(65,[5],[1.0])|(10,[0],[1.0])|(1,[],[])|(113,[1,17,18,23,...|        [0.0]|(113,[1,5,23,26,2...|\n",
            "|       0|         icmp|  eco_i|  SF|        8|        0|   0|             0|     0|  0|                0|        0|              0|         0|           0|       0|                 0|         0|               0|             0|    1|        1|        0.0|            0.0|        0.0|            0.0|          1.0|          0.0|               0.0|             2|               255|                   1.0|                   0.0|                        1.0|                        0.5|                 0.0|                     0.0|                 0.0|                     0.0|anomaly|        1.0|        (2,[],[])|(65,[5],[1.0])|(10,[0],[1.0])|(1,[],[])|(113,[1,17,18,23,...|        [0.0]|(113,[1,5,23,26,2...|\n",
            "|       0|         icmp|  eco_i|  SF|        8|        0|   0|             0|     0|  0|                0|        0|              0|         0|           0|       0|                 0|         0|               0|             0|    1|        1|        0.0|            0.0|        0.0|            0.0|          1.0|          0.0|               0.0|             4|                 2|                   0.5|                  0.75|                        0.5|                        0.0|                 0.0|                     0.0|                 0.0|                     0.0|anomaly|        1.0|        (2,[],[])|(65,[5],[1.0])|(10,[0],[1.0])|(1,[],[])|(113,[1,17,18,23,...|        [0.0]|(113,[1,5,23,26,2...|\n",
            "|       0|         icmp|  eco_i|  SF|        8|        0|   0|             0|     0|  0|                0|        0|              0|         0|           0|       0|                 0|         0|               0|             0|    1|        1|        0.0|            0.0|        0.0|            0.0|          1.0|          0.0|               0.0|             7|                 5|                  0.71|                  0.43|                       0.71|                        0.0|                 0.0|                     0.0|                 0.0|                     0.0|anomaly|        1.0|        (2,[],[])|(65,[5],[1.0])|(10,[0],[1.0])|(1,[],[])|(113,[1,17,18,23,...|        [0.0]|(113,[1,5,23,26,2...|\n",
            "|       0|         icmp|  eco_i|  SF|        8|        0|   0|             0|     0|  0|                0|        0|              0|         0|           0|       0|                 0|         0|               0|             0|    1|        2|        0.0|            0.0|        0.0|            0.0|          1.0|          0.0|               1.0|             1|                17|                   1.0|                   0.0|                        1.0|                       0.53|                 0.0|                     0.0|                 0.0|                     0.0|anomaly|        1.0|        (2,[],[])|(65,[5],[1.0])|(10,[0],[1.0])|(1,[],[])|(113,[1,17,18,23,...|        [0.0]|(113,[1,5,18,23,2...|\n",
            "|       0|         icmp|  eco_i|  SF|        8|        0|   0|             0|     0|  0|                0|        0|              0|         0|           0|       0|                 0|         0|               0|             0|    1|        2|        0.0|            0.0|        0.0|            0.0|          1.0|          0.0|               1.0|             1|                43|                   1.0|                   0.0|                        1.0|                       0.51|                 0.0|                     0.0|                 0.0|                     0.0|anomaly|        1.0|        (2,[],[])|(65,[5],[1.0])|(10,[0],[1.0])|(1,[],[])|(113,[1,17,18,23,...|        [0.0]|(113,[1,5,18,23,2...|\n",
            "|       0|         icmp|  eco_i|  SF|        8|        0|   0|             0|     0|  0|                0|        0|              0|         0|           0|       0|                 0|         0|               0|             0|    1|        2|        0.0|            0.0|        0.0|            0.0|          1.0|          0.0|               1.0|             1|                45|                   1.0|                   0.0|                        1.0|                       0.27|                 0.0|                     0.0|                 0.0|                     0.0|anomaly|        1.0|        (2,[],[])|(65,[5],[1.0])|(10,[0],[1.0])|(1,[],[])|(113,[1,17,18,23,...|        [0.0]|(113,[1,5,18,23,2...|\n",
            "|       0|         icmp|  eco_i|  SF|        8|        0|   0|             0|     0|  0|                0|        0|              0|         0|           0|       0|                 0|         0|               0|             0|    1|        2|        0.0|            0.0|        0.0|            0.0|          1.0|          0.0|               1.0|             1|                62|                   1.0|                   0.0|                        1.0|                       0.52|                 0.0|                     0.0|                 0.0|                     0.0|anomaly|        1.0|        (2,[],[])|(65,[5],[1.0])|(10,[0],[1.0])|(1,[],[])|(113,[1,17,18,23,...|        [0.0]|(113,[1,5,18,23,2...|\n",
            "|       0|         icmp|  eco_i|  SF|        8|        0|   0|             0|     0|  0|                0|        0|              0|         0|           0|       0|                 0|         0|               0|             0|    1|        2|        0.0|            0.0|        0.0|            0.0|          1.0|          0.0|               1.0|             1|                77|                   1.0|                   0.0|                        1.0|                       0.26|                 0.0|                     0.0|                 0.0|                     0.0|anomaly|        1.0|        (2,[],[])|(65,[5],[1.0])|(10,[0],[1.0])|(1,[],[])|(113,[1,17,18,23,...|        [0.0]|(113,[1,5,18,23,2...|\n",
            "|       0|         icmp|  eco_i|  SF|        8|        0|   0|             0|     0|  0|                0|        0|              0|         0|           0|       0|                 0|         0|               0|             0|    1|        2|        0.0|            0.0|        0.0|            0.0|          1.0|          0.0|               1.0|             1|                95|                   1.0|                   0.0|                        1.0|                       0.51|                 0.0|                     0.0|                 0.0|                     0.0|anomaly|        1.0|        (2,[],[])|(65,[5],[1.0])|(10,[0],[1.0])|(1,[],[])|(113,[1,17,18,23,...|        [0.0]|(113,[1,5,18,23,2...|\n",
            "|       0|         icmp|  eco_i|  SF|        8|        0|   0|             0|     0|  0|                0|        0|              0|         0|           0|       0|                 0|         0|               0|             0|    1|        2|        0.0|            0.0|        0.0|            0.0|          1.0|          0.0|               1.0|             2|                 2|                   1.0|                   0.0|                        1.0|                        0.0|                 0.0|                     0.0|                 0.0|                     0.0|anomaly|        1.0|        (2,[],[])|(65,[5],[1.0])|(10,[0],[1.0])|(1,[],[])|(113,[1,17,18,23,...|        [0.0]|(113,[1,5,18,23,2...|\n",
            "|       0|         icmp|  eco_i|  SF|        8|        0|   0|             0|     0|  0|                0|        0|              0|         0|           0|       0|                 0|         0|               0|             0|    1|        2|        0.0|            0.0|        0.0|            0.0|          1.0|          0.0|               1.0|             2|                54|                   1.0|                   0.0|                        1.0|                       0.26|                 0.0|                     0.0|                 0.0|                     0.0|anomaly|        1.0|        (2,[],[])|(65,[5],[1.0])|(10,[0],[1.0])|(1,[],[])|(113,[1,17,18,23,...|        [0.0]|(113,[1,5,18,23,2...|\n",
            "|       0|         icmp|  eco_i|  SF|        8|        0|   0|             0|     0|  0|                0|        0|              0|         0|           0|       0|                 0|         0|               0|             0|    1|        2|        0.0|            0.0|        0.0|            0.0|          1.0|          0.0|               1.0|             2|               129|                   1.0|                   0.0|                        1.0|                        0.5|                 0.0|                     0.0|                 0.0|                     0.0|anomaly|        1.0|        (2,[],[])|(65,[5],[1.0])|(10,[0],[1.0])|(1,[],[])|(113,[1,17,18,23,...|        [0.0]|(113,[1,5,18,23,2...|\n",
            "+--------+-------------+-------+----+---------+---------+----+--------------+------+---+-----------------+---------+---------------+----------+------------+--------+------------------+----------+----------------+--------------+-----+---------+-----------+---------------+-----------+---------------+-------------+-------------+------------------+--------------+------------------+----------------------+----------------------+---------------------------+---------------------------+--------------------+------------------------+--------------------+------------------------+-------+-----------+-----------------+--------------+--------------+---------+--------------------+-------------+--------------------+\n",
            "only showing top 20 rows\n",
            "\n"
          ]
        }
      ],
      "source": [
        "train_scaled_df.show()"
      ]
    },
    {
      "cell_type": "markdown",
      "metadata": {
        "id": "YxrXmBb1ee61"
      },
      "source": [
        "## Model Training"
      ]
    },
    {
      "cell_type": "markdown",
      "metadata": {
        "id": "-8eKA4CQee61"
      },
      "source": [
        "### Random forest + Filter Method"
      ]
    },
    {
      "cell_type": "code",
      "execution_count": 48,
      "metadata": {
        "id": "R77lGdLcee61"
      },
      "outputs": [],
      "source": [
        "train = train_scaled_df.select([\"scaled_features\", \"class_index\"])\n",
        "test = test_scaled_df.select([\"scaled_features\", \"class_index\"])"
      ]
    },
    {
      "cell_type": "code",
      "execution_count": 49,
      "metadata": {
        "id": "yJ3viL7Mee61"
      },
      "outputs": [],
      "source": [
        "from pyspark.ml.classification import RandomForestClassifier\n",
        "\n",
        "rf = RandomForestClassifier(featuresCol=\"scaled_features\", labelCol=\"class_index\",numTrees=100, maxDepth=10, seed=42)\n",
        "rf_model = rf.fit(train)"
      ]
    },
    {
      "cell_type": "code",
      "execution_count": 50,
      "metadata": {
        "colab": {
          "base_uri": "https://localhost:8080/"
        },
        "id": "tUKqcTOxee61",
        "outputId": "b1c89c3b-b3d5-40a8-83bc-1b2c07971806"
      },
      "outputs": [
        {
          "name": "stdout",
          "output_type": "stream",
          "text": [
            "Accuracy :  0.9944167497507478\n",
            "AUC :  0.9998684739912715\n",
            "F1 score :  0.9944309323850854\n"
          ]
        }
      ],
      "source": [
        "results = rf_model.evaluate(test)\n",
        "\n",
        "prec = results.weightedPrecision\n",
        "reca = results.weightedRecall\n",
        "f1 = 2*prec*reca/(prec+reca)\n",
        "\n",
        "print(\"Accuracy : \", results.accuracy)\n",
        "print(\"AUC : \", results.areaUnderROC)\n",
        "print(\"F1 score : \", f1)"
      ]
    },
    {
      "cell_type": "markdown",
      "metadata": {
        "id": "tgAMeI7-ee62"
      },
      "source": [
        "The number of trees and depth may be too high, let's reduce it to make the model less heavy. We know we are not overfitting as the model performs well on unseen data (training data)."
      ]
    },
    {
      "cell_type": "code",
      "execution_count": 51,
      "metadata": {
        "id": "fFTkoZGKee62"
      },
      "outputs": [],
      "source": [
        "rf = RandomForestClassifier(featuresCol=\"scaled_features\", labelCol=\"class_index\",numTrees=40, maxDepth=7, seed=42)\n",
        "rf_model = rf.fit(train)"
      ]
    },
    {
      "cell_type": "code",
      "execution_count": 52,
      "metadata": {
        "colab": {
          "base_uri": "https://localhost:8080/"
        },
        "id": "Z1jUUYj-ee62",
        "outputId": "e1c4150c-41bc-4a2e-bc46-4817ec252101"
      },
      "outputs": [
        {
          "name": "stdout",
          "output_type": "stream",
          "text": [
            "Accuracy :  0.9844466600199402\n",
            "AUC :  0.9994746955152912\n",
            "F1 score :  0.9846009263235828\n"
          ]
        }
      ],
      "source": [
        "results = rf_model.evaluate(test)\n",
        "\n",
        "prec = results.weightedPrecision\n",
        "reca = results.weightedRecall\n",
        "f1 = 2*prec*reca/(prec+reca)\n",
        "\n",
        "print(\"Accuracy : \", results.accuracy)\n",
        "print(\"AUC : \", results.areaUnderROC)\n",
        "print(\"F1 score : \", f1)"
      ]
    },
    {
      "cell_type": "markdown",
      "metadata": {
        "id": "G_vPNbVMee62"
      },
      "source": [
        "Let's reduce it more and see the performance"
      ]
    },
    {
      "cell_type": "code",
      "execution_count": 53,
      "metadata": {
        "id": "i82WEp55ee6-"
      },
      "outputs": [],
      "source": [
        "rf = RandomForestClassifier(featuresCol=\"scaled_features\", labelCol=\"class_index\",numTrees=30, maxDepth=5, seed=42)\n",
        "rf_model = rf.fit(train)"
      ]
    },
    {
      "cell_type": "code",
      "execution_count": 54,
      "metadata": {
        "colab": {
          "base_uri": "https://localhost:8080/"
        },
        "id": "msB2yv7aee6_",
        "outputId": "d8eb5a78-bf53-4870-9b0a-7168fd4ebf0c"
      },
      "outputs": [
        {
          "name": "stdout",
          "output_type": "stream",
          "text": [
            "Accuracy :  0.9750747756729811\n",
            "AUC :  0.9979205298267412\n",
            "F1 score :  0.9753318557648677\n"
          ]
        }
      ],
      "source": [
        "results = rf_model.evaluate(test)\n",
        "\n",
        "prec = results.weightedPrecision\n",
        "reca = results.weightedRecall\n",
        "f1 = 2*prec*reca/(prec+reca)\n",
        "\n",
        "print(\"Accuracy : \", results.accuracy)\n",
        "print(\"AUC : \", results.areaUnderROC)\n",
        "print(\"F1 score : \", f1)"
      ]
    },
    {
      "cell_type": "markdown",
      "metadata": {
        "id": "bNc62kZRee6_"
      },
      "source": [
        "Depth = 5 seems more appropriate, as the performance didn't drop as much and the complexity of the model has significantly dropped. Lets check the feature importance and discard all the features which are not significantly contributing to the model"
      ]
    },
    {
      "cell_type": "code",
      "execution_count": 55,
      "metadata": {
        "colab": {
          "base_uri": "https://localhost:8080/"
        },
        "id": "wenOmrqAee6_",
        "outputId": "6793f08c-b820-4e21-c274-34c5e65cf0b6"
      },
      "outputs": [
        {
          "data": {
            "text/plain": [
              "SparseVector(113, {0: 0.0003, 1: 0.1092, 2: 0.0849, 4: 0.0013, 6: 0.0039, 7: 0.0001, 8: 0.0645, 9: 0.004, 10: 0.0, 12: 0.0001, 13: 0.0, 16: 0.0, 17: 0.0267, 18: 0.0101, 19: 0.0549, 20: 0.0171, 21: 0.0133, 22: 0.0079, 23: 0.0716, 24: 0.0291, 25: 0.0049, 26: 0.01, 27: 0.1292, 28: 0.0345, 29: 0.057, 30: 0.0178, 31: 0.0118, 32: 0.0273, 33: 0.0055, 34: 0.004, 35: 0.0209, 36: 0.0034, 37: 0.0025, 38: 0.0056, 39: 0.0064, 40: 0.0141, 41: 0.0001, 42: 0.0073, 43: 0.0079, 44: 0.0004, 45: 0.0129, 46: 0.0, 47: 0.0, 48: 0.0003, 49: 0.0, 50: 0.0, 51: 0.0, 52: 0.0, 56: 0.0003, 61: 0.0007, 91: 0.0001, 92: 0.0, 93: 0.0, 103: 0.0675, 104: 0.0436, 105: 0.0031, 106: 0.0014, 107: 0.0, 108: 0.0002, 110: 0.0})"
            ]
          },
          "execution_count": 55,
          "metadata": {},
          "output_type": "execute_result"
        }
      ],
      "source": [
        "rf_model.featureImportances"
      ]
    },
    {
      "cell_type": "code",
      "execution_count": 56,
      "metadata": {
        "id": "DtndIqNBee6_"
      },
      "outputs": [],
      "source": [
        "threshold = 0.01  # Adjust as needed\n",
        "low_importance_indices = [i for i, score in enumerate(rf_model.featureImportances) if score < threshold]"
      ]
    },
    {
      "cell_type": "code",
      "execution_count": 57,
      "metadata": {
        "colab": {
          "base_uri": "https://localhost:8080/"
        },
        "id": "VhXj_Sleee6_",
        "outputId": "f2e2d500-e406-431c-d7ab-93686c363d9b"
      },
      "outputs": [
        {
          "data": {
            "text/plain": [
              "91"
            ]
          },
          "execution_count": 57,
          "metadata": {},
          "output_type": "execute_result"
        }
      ],
      "source": [
        "len(low_importance_indices)"
      ]
    },
    {
      "cell_type": "markdown",
      "metadata": {},
      "source": [
        "91 out of 113 features in the vector don't provide much value, hence we can discard them."
      ]
    },
    {
      "cell_type": "code",
      "execution_count": 58,
      "metadata": {
        "id": "_aGR9am1ee6_"
      },
      "outputs": [],
      "source": [
        "from pyspark.ml.linalg import Vectors, SparseVector\n",
        "from pyspark.sql.functions import udf\n",
        "\n",
        "def drop_indices_from_vector(vector, drop_indices):\n",
        "    if not isinstance(vector, SparseVector):\n",
        "        vector = Vectors.sparse(len(vector), [(i, v) for i, v in enumerate(vector)])\n",
        "\n",
        "    kept_items = [(i, v) for i, v in zip(vector.indices, vector.values) if i not in drop_indices]\n",
        "    new_indices, new_values = zip(*kept_items) if kept_items else ([], [])\n",
        "    return SparseVector(len(vector), new_indices, new_values)\n",
        "\n",
        "drop_udf = udf(lambda vec: drop_indices_from_vector(vec, low_importance_indices))"
      ]
    },
    {
      "cell_type": "code",
      "execution_count": 59,
      "metadata": {
        "id": "kX_EWMW3ee7A"
      },
      "outputs": [],
      "source": [
        "train_reduced_df = train_scaled_df.withColumn(\"features_reduced\", drop_udf(\"scaled_features\"))\n",
        "test_reduced_df = test_scaled_df.withColumn(\"features_reduced\", drop_udf(\"scaled_features\"))"
      ]
    },
    {
      "cell_type": "markdown",
      "metadata": {},
      "source": [
        "Let's retrain the model with reduced features and compare the performance"
      ]
    },
    {
      "cell_type": "code",
      "execution_count": 60,
      "metadata": {
        "id": "q_KUujnPee7A"
      },
      "outputs": [],
      "source": [
        "train = train_reduced_df.select([\"scaled_features\", \"class_index\"])\n",
        "test = test_reduced_df.select([\"scaled_features\", \"class_index\"])"
      ]
    },
    {
      "cell_type": "code",
      "execution_count": 61,
      "metadata": {
        "id": "9KEH6b4Fee7A"
      },
      "outputs": [],
      "source": [
        "rf = RandomForestClassifier(featuresCol=\"scaled_features\", labelCol=\"class_index\",numTrees=30, maxDepth=5, seed=42)\n",
        "rf_model = rf.fit(train)"
      ]
    },
    {
      "cell_type": "code",
      "execution_count": 62,
      "metadata": {
        "colab": {
          "base_uri": "https://localhost:8080/"
        },
        "id": "oeFQ-Svmee7A",
        "outputId": "7397091e-2d50-48b2-b494-cf5eb72b2ee0"
      },
      "outputs": [
        {
          "name": "stdout",
          "output_type": "stream",
          "text": [
            "Accuracy :  0.9750747756729811\n",
            "AUC :  0.9979205298267412\n",
            "F1 score :  0.9753318557648677\n"
          ]
        }
      ],
      "source": [
        "results = rf_model.evaluate(test)\n",
        "\n",
        "prec = results.weightedPrecision\n",
        "reca = results.weightedRecall\n",
        "f1 = 2*prec*reca/(prec+reca)\n",
        "\n",
        "print(\"Accuracy : \", results.accuracy)\n",
        "print(\"AUC : \", results.areaUnderROC)\n",
        "print(\"F1 score : \", f1)"
      ]
    },
    {
      "cell_type": "markdown",
      "metadata": {},
      "source": [
        "The performance looks good, lets save the model!"
      ]
    },
    {
      "cell_type": "code",
      "execution_count": 63,
      "metadata": {
        "id": "T0_KbIOEee7A"
      },
      "outputs": [],
      "source": [
        "rf_model.write().overwrite().save(\"model\")"
      ]
    },
    {
      "cell_type": "code",
      "execution_count": null,
      "metadata": {
        "id": "kJgTFnMNee7B"
      },
      "outputs": [],
      "source": []
    }
  ],
  "metadata": {
    "colab": {
      "provenance": []
    },
    "kernelspec": {
      "display_name": ".venv",
      "language": "python",
      "name": "python3"
    },
    "language_info": {
      "codemirror_mode": {
        "name": "ipython",
        "version": 3
      },
      "file_extension": ".py",
      "mimetype": "text/x-python",
      "name": "python",
      "nbconvert_exporter": "python",
      "pygments_lexer": "ipython3",
      "version": "3.11.8"
    }
  },
  "nbformat": 4,
  "nbformat_minor": 0
}
